{
  "nbformat": 4,
  "nbformat_minor": 0,
  "metadata": {
    "colab": {
      "name": "Preprocessor.ipynb",
      "provenance": [],
      "collapsed_sections": []
    },
    "kernelspec": {
      "name": "python3",
      "display_name": "Python 3"
    },
    "language_info": {
      "name": "python"
    },
    "accelerator": "GPU"
  },
  "cells": [
    {
      "cell_type": "code",
      "metadata": {
        "colab": {
          "base_uri": "https://localhost:8080/"
        },
        "id": "Q0fQGkAe1mHK",
        "outputId": "795b48ec-62cd-4901-f334-0983b0159fa0"
      },
      "source": [
        "!nvidia-smi"
      ],
      "execution_count": null,
      "outputs": [
        {
          "output_type": "stream",
          "text": [
            "Sat Jul 24 14:07:44 2021       \n",
            "+-----------------------------------------------------------------------------+\n",
            "| NVIDIA-SMI 470.42.01    Driver Version: 460.32.03    CUDA Version: 11.2     |\n",
            "|-------------------------------+----------------------+----------------------+\n",
            "| GPU  Name        Persistence-M| Bus-Id        Disp.A | Volatile Uncorr. ECC |\n",
            "| Fan  Temp  Perf  Pwr:Usage/Cap|         Memory-Usage | GPU-Util  Compute M. |\n",
            "|                               |                      |               MIG M. |\n",
            "|===============================+======================+======================|\n",
            "|   0  Tesla K80           Off  | 00000000:00:04.0 Off |                    0 |\n",
            "| N/A   54C    P8    33W / 149W |      0MiB / 11441MiB |      0%      Default |\n",
            "|                               |                      |                  N/A |\n",
            "+-------------------------------+----------------------+----------------------+\n",
            "                                                                               \n",
            "+-----------------------------------------------------------------------------+\n",
            "| Processes:                                                                  |\n",
            "|  GPU   GI   CI        PID   Type   Process name                  GPU Memory |\n",
            "|        ID   ID                                                   Usage      |\n",
            "|=============================================================================|\n",
            "|  No running processes found                                                 |\n",
            "+-----------------------------------------------------------------------------+\n"
          ],
          "name": "stdout"
        }
      ]
    },
    {
      "cell_type": "code",
      "metadata": {
        "colab": {
          "base_uri": "https://localhost:8080/"
        },
        "id": "o6c6SoA9HgAu",
        "outputId": "e37c6083-79ec-4079-f298-0cb8a2b7e0dc"
      },
      "source": [
        "from google.colab import drive\n",
        "drive.mount('/content/drive')"
      ],
      "execution_count": null,
      "outputs": [
        {
          "output_type": "stream",
          "text": [
            "Mounted at /content/drive\n"
          ],
          "name": "stdout"
        }
      ]
    },
    {
      "cell_type": "code",
      "metadata": {
        "id": "J7aslQIoIc1-"
      },
      "source": [
        "import os\n",
        "import cv2\n",
        "from tqdm import tqdm\n",
        "from scipy.io import loadmat,savemat"
      ],
      "execution_count": null,
      "outputs": []
    },
    {
      "cell_type": "code",
      "metadata": {
        "id": "sAEEWwVzL19U"
      },
      "source": [
        "!mkdir NTIRE_Validation_Spectral_256"
      ],
      "execution_count": null,
      "outputs": []
    },
    {
      "cell_type": "code",
      "metadata": {
        "id": "vJRuvKQ1Hl6A"
      },
      "source": [
        "folder_path = '/content/drive/MyDrive/HSFMRGB/Preprocessed_Datasets/NTIRE_Validation_Spectral_256'"
      ],
      "execution_count": null,
      "outputs": []
    },
    {
      "cell_type": "code",
      "metadata": {
        "colab": {
          "base_uri": "https://localhost:8080/"
        },
        "id": "Ip9d8aA2ITNa",
        "outputId": "9f4adba0-1ca3-485e-a656-a278539cb00e"
      },
      "source": [
        "path = '/content/drive/MyDrive/HSFMRGB/Original_Datasets/NTIRE2020_Validation_Spectral'\n",
        "paths = os.listdir(path)\n",
        "len(paths)"
      ],
      "execution_count": null,
      "outputs": [
        {
          "output_type": "execute_result",
          "data": {
            "text/plain": [
              "10"
            ]
          },
          "metadata": {
            "tags": []
          },
          "execution_count": 49
        }
      ]
    },
    {
      "cell_type": "code",
      "metadata": {
        "colab": {
          "base_uri": "https://localhost:8080/"
        },
        "id": "0N4xmEdKIwPN",
        "outputId": "32d5f87d-b831-41d8-af24-c3d6ea4690b3"
      },
      "source": [
        "def save(paths,saveto):\n",
        "  for _path in tqdm(paths):\n",
        "    p = os.path.join(path,_path)\n",
        "    img = cv2.imread(p)\n",
        "    img = cv2.resize(img, (256, 256),interpolation = cv2.INTER_NEAREST)\n",
        "    cv2.imwrite(os.path.join(folder_path,_path),img)\n",
        "save(paths,saveto=folder_path)\n"
      ],
      "execution_count": null,
      "outputs": [
        {
          "output_type": "stream",
          "text": [
            "100%|██████████| 10/10 [00:08<00:00,  1.17it/s]\n"
          ],
          "name": "stderr"
        }
      ]
    },
    {
      "cell_type": "code",
      "metadata": {
        "colab": {
          "base_uri": "https://localhost:8080/"
        },
        "id": "1gAor2crRynD",
        "outputId": "63bb4299-807b-4cf1-c9c0-9341ae2d3aee"
      },
      "source": [
        "def save_spec(paths,saveto):\n",
        "  for _path in tqdm(paths):\n",
        "    p = os.path.join(path,_path)\n",
        "    data = loadmat(p)\n",
        "    img,bands = data['cube'],data['bands']\n",
        "    img = cv2.resize(img, (256, 256),interpolation = cv2.INTER_NEAREST)\n",
        "    savemat(os.path.join(folder_path,_path),mdict={'bands':bands,'cube':img})\n",
        "save_spec(paths,saveto=folder_path)"
      ],
      "execution_count": null,
      "outputs": [
        {
          "output_type": "stream",
          "text": [
            "100%|██████████| 10/10 [00:26<00:00,  2.67s/it]\n"
          ],
          "name": "stderr"
        }
      ]
    },
    {
      "cell_type": "code",
      "metadata": {
        "id": "I6KBFxTANOad",
        "colab": {
          "base_uri": "https://localhost:8080/"
        },
        "outputId": "f0320786-999f-4d5f-d0af-4a7be904e314"
      },
      "source": [
        "print(len(os.listdir(folder_path)))\n",
        "print(len(os.listdir(path)))\n",
        "# print(len(os.listdir('/content/drive/MyDrive/HSFMRGB/Preprocessed_Datasets/NTIRE_Train_Spectral_256')))"
      ],
      "execution_count": null,
      "outputs": [
        {
          "output_type": "stream",
          "text": [
            "10\n",
            "10\n"
          ],
          "name": "stdout"
        }
      ]
    }
  ]
}