{
 "cells": [
  {
   "cell_type": "code",
   "execution_count": 1,
   "id": "racial-blanket",
   "metadata": {},
   "outputs": [],
   "source": [
    "from scipy.io import loadmat\n",
    "import torch as tr\n",
    "import torch.nn as nn\n",
    "from time import time\n",
    "from matplotlib import pyplot as plt\n",
    "import os\n",
    "import cv2\n",
    "from math import ceil\n",
    "import numpy as np\n",
    "from tqdm import tqdm\n",
    "from torch.utils.tensorboard import SummaryWriter"
   ]
  },
  {
   "cell_type": "code",
   "execution_count": 3,
   "id": "funny-ethics",
   "metadata": {},
   "outputs": [],
   "source": [
    "class ResBlock(nn.Module):\n",
    "  def __init__(self,channels):\n",
    "    super(ResBlock,self).__init__()\n",
    "    self.conv = nn.Conv2d(channels,channels,kernel_size=3,stride=1,padding=1,bias=False,padding_mode='reflect')\n",
    "    self.bn = nn.BatchNorm2d(channels)\n",
    "    self.relu = nn.ReLU(inplace=True)\n",
    "  def forward(self,x):\n",
    "    conv = self.bn(self.conv(x))\n",
    "    return self.relu(tr.cat([x,conv],1))"
   ]
  },
  {
   "cell_type": "code",
   "execution_count": 10,
   "id": "approximate-shuttle",
   "metadata": {},
   "outputs": [],
   "source": [
    "# Generator Model\n",
    "class Generator(nn.Module):\n",
    "  def __init__(self):\n",
    "    super(Generator,self).__init__()\n",
    "    self.leaky1 = nn.LeakyReLU(0.2)\n",
    "    self.leaky2 = nn.LeakyReLU(0.2)\n",
    "    self.leaky3 = nn.LeakyReLU(0.2)\n",
    "    self.leaky4 = nn.LeakyReLU(0.2)\n",
    "   \n",
    "\n",
    "    self.relu1 = nn.ReLU(inplace=True)\n",
    "    self.relu2 = nn.ReLU(inplace=True)\n",
    "    self.relu3 = nn.ReLU(inplace=True)\n",
    "    self.relu4 = nn.ReLU(inplace=True)\n",
    "    self.relu5 = nn.ReLU(inplace=True)\n",
    "  \n",
    "    self.bn1_64 = nn.BatchNorm2d(64)\n",
    "    self.bn2_64 = nn.BatchNorm2d(64)\n",
    "\n",
    "    self.bn1_128 = nn.BatchNorm2d(128)\n",
    "    self.bn2_128 = nn.BatchNorm2d(128)\n",
    "\n",
    "    self.bn1_256 = nn.BatchNorm2d(256)\n",
    "    self.bn2_256 = nn.BatchNorm2d(256)\n",
    "\n",
    "    self.bn1_512 = nn.BatchNorm2d(512)\n",
    "    self.bn2_512 = nn.BatchNorm2d(512)\n",
    "    self.bn3_512 = nn.BatchNorm2d(512)\n",
    "    self.bn4_512 = nn.BatchNorm2d(512)\n",
    "\n",
    "    self.drop1 = nn.Dropout(0.5)\n",
    "    self.drop2 = nn.Dropout(0.5)\n",
    "    \n",
    "\n",
    "    self.tanh = nn.Tanh()\n",
    "\n",
    "    self.conv1 = nn.Conv2d(3,64,kernel_size=4,stride=2,padding=1)\n",
    "    self.conv2 = nn.Conv2d(64,128,kernel_size=4,stride=2,padding=1)\n",
    "    self.conv3 = nn.Conv2d(128,256,kernel_size=4,stride=2,padding=1)\n",
    "    self.conv4 = nn.Conv2d(256,512,kernel_size=4,stride=2,padding=1)\n",
    "   \n",
    "    \n",
    "    self.bottleneck = nn.Conv2d(512,512,kernel_size=4,stride=2,padding=1)\n",
    "\n",
    "    self.tconv1 = nn.ConvTranspose2d(512,512,kernel_size=4,stride=2,padding=1)\n",
    "    self.tconv2 = nn.ConvTranspose2d(1024,256,kernel_size=4,stride=2,padding=1) # 1,5\n",
    "    self.tconv3 = nn.ConvTranspose2d(512,128,kernel_size=4,stride=2,padding=1) # 2,4 \n",
    "    self.tconv4 = nn.ConvTranspose2d(256,64,kernel_size=4,stride=2,padding=1) # 3,3\n",
    "  \n",
    "\n",
    "    self.final = nn.ConvTranspose2d(128,3,kernel_size=4,stride=2,padding=1) # 5,1\n",
    "    \n",
    "    \n",
    "  def forward(self,x):\n",
    "    d1 = self.leaky1(self.conv1(x))\n",
    "    d2 = self.leaky2(self.bn1_128(self.conv2(d1)))\n",
    "    d3 = self.leaky3(self.bn1_256(self.conv3(d2)))\n",
    "    d4 = self.leaky4(self.bn1_512(self.conv4(d3)))\n",
    "   \n",
    "    bottleneck = self.drop1(self.relu1(self.bottleneck(d4)))\n",
    "    \n",
    "    up1 = self.drop2(self.relu2(self.bn2_512(self.tconv1(bottleneck))))\n",
    "    up2 = self.relu3(self.bn2_256(self.tconv2(tr.cat([up1,d4],1))))\n",
    "    up3 = self.relu4(self.bn2_128(self.tconv3(tr.cat([up2,d3],1))))\n",
    "    up4 = self.relu5(self.bn1_64(self.tconv4(tr.cat([up3,d2],1))))\n",
    " \n",
    "    final = self.tanh(self.final(tr.cat([up4,d1],1)))\n",
    "\n",
    "    return final\n"
   ]
  },
  {
   "cell_type": "code",
   "execution_count": 11,
   "id": "composite-tyler",
   "metadata": {},
   "outputs": [],
   "source": [
    "netG = Generator()\n",
    "_input = tr.randn((1,3,256,256))\n",
    "writer = SummaryWriter()\n",
    "writer.add_graph(netG,_input)\n",
    "writer.close()"
   ]
  },
  {
   "cell_type": "code",
   "execution_count": 12,
   "id": "mysterious-yield",
   "metadata": {},
   "outputs": [
    {
     "name": "stdout",
     "output_type": "stream",
     "text": [
      "torch.Size([1, 3, 256, 256])\n"
     ]
    }
   ],
   "source": [
    "with tr.no_grad():\n",
    "  print(netG(_input).shape)"
   ]
  },
  {
   "cell_type": "code",
   "execution_count": 13,
   "id": "coupled-brush",
   "metadata": {},
   "outputs": [],
   "source": [
    "class Discriminator(nn.Module):\n",
    "  def __init__(self):\n",
    "    super(Discriminator,self).__init__()\n",
    "    self.leaky1 = nn.LeakyReLU(0.2)\n",
    "    self.leaky2 = nn.LeakyReLU(0.2)\n",
    "    self.leaky3 = nn.LeakyReLU(0.2)\n",
    "    self.leaky4 = nn.LeakyReLU(0.2)\n",
    "\n",
    "    self.bn128 = nn.BatchNorm2d(128)\n",
    "    self.bn256 = nn.BatchNorm2d(256)\n",
    "    self.bn512 = nn.BatchNorm2d(512)\n",
    "\n",
    "\n",
    "    self.conv1 = nn.Conv2d(6,64,kernel_size=4,stride=1,padding=1)\n",
    "    self.conv2 = nn.Conv2d(64,128,kernel_size=4,stride=2,padding=1)\n",
    "    self.conv3 = nn.Conv2d(128,256,kernel_size=4,stride=2,padding=1)\n",
    "    self.conv4 = nn.Conv2d(256,512,kernel_size=4,stride=2,padding=1)\n",
    "    self.final = nn.Conv2d(512,1,kernel_size=4,stride=1,padding=1)\n",
    "\n",
    "  def forward(self,x):\n",
    "    d1 = self.leaky1(self.conv1(x))\n",
    "    d2 = self.leaky2(self.bn128(self.conv2(d1)))\n",
    "    d3 = self.leaky3(self.bn256(self.conv3(d2)))\n",
    "    d4 = self.leaky4(self.bn512(self.conv4(d3)))\n",
    "    final = nn.Sigmoid()(self.final(d4))\n",
    "    return final"
   ]
  },
  {
   "cell_type": "code",
   "execution_count": 14,
   "id": "right-advertising",
   "metadata": {},
   "outputs": [],
   "source": [
    "netD = Discriminator()\n",
    "_input = tr.randn((1,6,256,256))\n",
    "writer = SummaryWriter()\n",
    "writer.add_graph(netD,_input)\n",
    "writer.close()"
   ]
  }
 ],
 "metadata": {
  "kernelspec": {
   "display_name": "Python 3",
   "language": "python",
   "name": "python3"
  },
  "language_info": {
   "codemirror_mode": {
    "name": "ipython",
    "version": 3
   },
   "file_extension": ".py",
   "mimetype": "text/x-python",
   "name": "python",
   "nbconvert_exporter": "python",
   "pygments_lexer": "ipython3",
   "version": "3.8.8"
  }
 },
 "nbformat": 4,
 "nbformat_minor": 5
}
