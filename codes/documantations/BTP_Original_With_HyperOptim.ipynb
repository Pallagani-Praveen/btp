{
  "nbformat": 4,
  "nbformat_minor": 0,
  "metadata": {
    "accelerator": "GPU",
    "colab": {
      "name": "BTP_Original_With_HyperOptim.ipynb",
      "provenance": [],
      "collapsed_sections": [],
      "toc_visible": true
    },
    "kernelspec": {
      "display_name": "Python 3",
      "name": "python3"
    },
    "language_info": {
      "name": "python"
    }
  },
  "cells": [
    {
      "cell_type": "code",
      "metadata": {
        "colab": {
          "base_uri": "https://localhost:8080/"
        },
        "id": "UdDbT0P9pBl7",
        "outputId": "2866403b-f706-4a28-ea7b-63385903b9ce"
      },
      "source": [
        "!nvidia-smi"
      ],
      "execution_count": null,
      "outputs": [
        {
          "name": "stdout",
          "output_type": "stream",
          "text": [
            "Sun Nov 14 06:45:21 2021       \n",
            "+-----------------------------------------------------------------------------+\n",
            "| NVIDIA-SMI 495.44       Driver Version: 460.32.03    CUDA Version: 11.2     |\n",
            "|-------------------------------+----------------------+----------------------+\n",
            "| GPU  Name        Persistence-M| Bus-Id        Disp.A | Volatile Uncorr. ECC |\n",
            "| Fan  Temp  Perf  Pwr:Usage/Cap|         Memory-Usage | GPU-Util  Compute M. |\n",
            "|                               |                      |               MIG M. |\n",
            "|===============================+======================+======================|\n",
            "|   0  Tesla P100-PCIE...  Off  | 00000000:00:04.0 Off |                    0 |\n",
            "| N/A   37C    P0    27W / 250W |      0MiB / 16280MiB |      0%      Default |\n",
            "|                               |                      |                  N/A |\n",
            "+-------------------------------+----------------------+----------------------+\n",
            "                                                                               \n",
            "+-----------------------------------------------------------------------------+\n",
            "| Processes:                                                                  |\n",
            "|  GPU   GI   CI        PID   Type   Process name                  GPU Memory |\n",
            "|        ID   ID                                                   Usage      |\n",
            "|=============================================================================|\n",
            "|  No running processes found                                                 |\n",
            "+-----------------------------------------------------------------------------+\n"
          ]
        }
      ]
    },
    {
      "cell_type": "code",
      "metadata": {
        "colab": {
          "base_uri": "https://localhost:8080/"
        },
        "id": "l6jPLnKdRtxo",
        "outputId": "48df3128-67e7-4bcf-9dab-d899a3c2a04a"
      },
      "source": [
        "!pip install optuna\n",
        "from scipy.io import loadmat\n",
        "import torch as tr\n",
        "import torch.nn as nn\n",
        "from time import time\n",
        "from matplotlib import pyplot as plt\n",
        "import os\n",
        "import cv2\n",
        "from math import ceil\n",
        "import numpy as np\n",
        "from tqdm import tqdm\n",
        "import torchvision\n",
        "from PIL import Image\n",
        "import tensorflow as tf\n",
        "import optuna\n",
        "from sklearn.metrics import mean_squared_error"
      ],
      "execution_count": null,
      "outputs": [
        {
          "name": "stdout",
          "output_type": "stream",
          "text": [
            "Collecting optuna\n",
            "  Downloading optuna-2.10.0-py3-none-any.whl (308 kB)\n",
            "\u001b[K     |████████████████████████████████| 308 kB 6.8 MB/s \n",
            "\u001b[?25hCollecting colorlog\n",
            "  Downloading colorlog-6.6.0-py2.py3-none-any.whl (11 kB)\n",
            "Requirement already satisfied: PyYAML in /usr/local/lib/python3.7/dist-packages (from optuna) (3.13)\n",
            "Collecting alembic\n",
            "  Downloading alembic-1.7.5-py3-none-any.whl (209 kB)\n",
            "\u001b[K     |████████████████████████████████| 209 kB 60.7 MB/s \n",
            "\u001b[?25hRequirement already satisfied: packaging>=20.0 in /usr/local/lib/python3.7/dist-packages (from optuna) (21.2)\n",
            "Requirement already satisfied: tqdm in /usr/local/lib/python3.7/dist-packages (from optuna) (4.62.3)\n",
            "Collecting cmaes>=0.8.2\n",
            "  Downloading cmaes-0.8.2-py3-none-any.whl (15 kB)\n",
            "Requirement already satisfied: sqlalchemy>=1.1.0 in /usr/local/lib/python3.7/dist-packages (from optuna) (1.4.26)\n",
            "Requirement already satisfied: scipy!=1.4.0 in /usr/local/lib/python3.7/dist-packages (from optuna) (1.4.1)\n",
            "Collecting cliff\n",
            "  Downloading cliff-3.9.0-py3-none-any.whl (80 kB)\n",
            "\u001b[K     |████████████████████████████████| 80 kB 12.8 MB/s \n",
            "\u001b[?25hRequirement already satisfied: numpy in /usr/local/lib/python3.7/dist-packages (from optuna) (1.19.5)\n",
            "Requirement already satisfied: pyparsing<3,>=2.0.2 in /usr/local/lib/python3.7/dist-packages (from packaging>=20.0->optuna) (2.4.7)\n",
            "Requirement already satisfied: importlib-metadata in /usr/local/lib/python3.7/dist-packages (from sqlalchemy>=1.1.0->optuna) (4.8.2)\n",
            "Requirement already satisfied: greenlet!=0.4.17 in /usr/local/lib/python3.7/dist-packages (from sqlalchemy>=1.1.0->optuna) (1.1.2)\n",
            "Requirement already satisfied: importlib-resources in /usr/local/lib/python3.7/dist-packages (from alembic->optuna) (5.4.0)\n",
            "Collecting Mako\n",
            "  Downloading Mako-1.1.5-py2.py3-none-any.whl (75 kB)\n",
            "\u001b[K     |████████████████████████████████| 75 kB 6.3 MB/s \n",
            "\u001b[?25hCollecting pbr!=2.1.0,>=2.0.0\n",
            "  Downloading pbr-5.7.0-py2.py3-none-any.whl (112 kB)\n",
            "\u001b[K     |████████████████████████████████| 112 kB 81.0 MB/s \n",
            "\u001b[?25hRequirement already satisfied: PrettyTable>=0.7.2 in /usr/local/lib/python3.7/dist-packages (from cliff->optuna) (2.4.0)\n",
            "Collecting cmd2>=1.0.0\n",
            "  Downloading cmd2-2.3.0-py3-none-any.whl (148 kB)\n",
            "\u001b[K     |████████████████████████████████| 148 kB 75.6 MB/s \n",
            "\u001b[?25hCollecting stevedore>=2.0.1\n",
            "  Downloading stevedore-3.5.0-py3-none-any.whl (49 kB)\n",
            "\u001b[K     |████████████████████████████████| 49 kB 8.0 MB/s \n",
            "\u001b[?25hCollecting autopage>=0.4.0\n",
            "  Downloading autopage-0.4.0-py3-none-any.whl (20 kB)\n",
            "Requirement already satisfied: typing-extensions in /usr/local/lib/python3.7/dist-packages (from cmd2>=1.0.0->cliff->optuna) (3.10.0.2)\n",
            "Requirement already satisfied: wcwidth>=0.1.7 in /usr/local/lib/python3.7/dist-packages (from cmd2>=1.0.0->cliff->optuna) (0.2.5)\n",
            "Collecting pyperclip>=1.6\n",
            "  Downloading pyperclip-1.8.2.tar.gz (20 kB)\n",
            "Requirement already satisfied: attrs>=16.3.0 in /usr/local/lib/python3.7/dist-packages (from cmd2>=1.0.0->cliff->optuna) (21.2.0)\n",
            "Requirement already satisfied: zipp>=0.5 in /usr/local/lib/python3.7/dist-packages (from importlib-metadata->sqlalchemy>=1.1.0->optuna) (3.6.0)\n",
            "Requirement already satisfied: MarkupSafe>=0.9.2 in /usr/local/lib/python3.7/dist-packages (from Mako->alembic->optuna) (2.0.1)\n",
            "Building wheels for collected packages: pyperclip\n",
            "  Building wheel for pyperclip (setup.py) ... \u001b[?25l\u001b[?25hdone\n",
            "  Created wheel for pyperclip: filename=pyperclip-1.8.2-py3-none-any.whl size=11136 sha256=ebb33e50d15be03ebdd827c282dea0649f444e263ec93ce667eb390ee21eb5d6\n",
            "  Stored in directory: /root/.cache/pip/wheels/9f/18/84/8f69f8b08169c7bae2dde6bd7daf0c19fca8c8e500ee620a28\n",
            "Successfully built pyperclip\n",
            "Installing collected packages: pyperclip, pbr, stevedore, Mako, cmd2, autopage, colorlog, cmaes, cliff, alembic, optuna\n",
            "Successfully installed Mako-1.1.5 alembic-1.7.5 autopage-0.4.0 cliff-3.9.0 cmaes-0.8.2 cmd2-2.3.0 colorlog-6.6.0 optuna-2.10.0 pbr-5.7.0 pyperclip-1.8.2 stevedore-3.5.0\n"
          ]
        }
      ]
    },
    {
      "cell_type": "code",
      "metadata": {
        "colab": {
          "base_uri": "https://localhost:8080/"
        },
        "id": "SfC3rxELR2uL",
        "outputId": "8878f128-b88d-431b-a37d-a38a1782949e"
      },
      "source": [
        "from google.colab import drive\n",
        "drive._mount('/content/drive')"
      ],
      "execution_count": null,
      "outputs": [
        {
          "name": "stdout",
          "output_type": "stream",
          "text": [
            "Mounted at /content/drive\n"
          ]
        }
      ]
    },
    {
      "cell_type": "code",
      "metadata": {
        "colab": {
          "base_uri": "https://localhost:8080/"
        },
        "id": "Dv_7kSk5SBWW",
        "outputId": "bf5fc47a-3b5b-42bb-f6b9-bd973635e65d"
      },
      "source": [
        "# device info\n",
        "device = tr.device('cuda' if tr.cuda.is_available() else 'cpu')\n",
        "device"
      ],
      "execution_count": null,
      "outputs": [
        {
          "data": {
            "text/plain": [
              "device(type='cuda')"
            ]
          },
          "execution_count": 4,
          "metadata": {},
          "output_type": "execute_result"
        }
      ]
    },
    {
      "cell_type": "code",
      "metadata": {
        "colab": {
          "base_uri": "https://localhost:8080/"
        },
        "id": "qlRp71erSHdm",
        "outputId": "8f29dcae-78e7-4c61-d23b-b36970f95c42"
      },
      "source": [
        "# data paths extraction\n",
        "# train_rw_path = '/content/drive/MyDrive/HSFMRGB/Prep_02/NTIRE_Train_Clean'\n",
        "# train_spec_path = '/content/drive/MyDrive/HSFMRGB/Prep_02/NTIRE_Train_Spectral'\n",
        "\n",
        "train_rw_path = '/content/drive/MyDrive/HSFMRGB/Preprocessed_Datasets/NTIRE_Train_Clean_256'\n",
        "train_spec_path = '/content/drive/MyDrive/HSFMRGB/Preprocessed_Datasets/NTIRE_Train_Spectral_256'\n",
        "\n",
        "sp_filename = 'ARAD_HS_'\n",
        "rw_filename = '_clean'\n",
        "\n",
        "tsp_paths = os.listdir(train_spec_path)\n",
        "trw_paths = os.listdir(train_rw_path)[:len(tsp_paths)]\n",
        "print('train rw paths :',len(trw_paths))\n",
        "print('train spec paths :',len(tsp_paths))"
      ],
      "execution_count": null,
      "outputs": [
        {
          "name": "stdout",
          "output_type": "stream",
          "text": [
            "train rw paths : 450\n",
            "train spec paths : 450\n"
          ]
        }
      ]
    },
    {
      "cell_type": "code",
      "metadata": {
        "colab": {
          "base_uri": "https://localhost:8080/"
        },
        "id": "vZIDK1U6Sj2B",
        "outputId": "083bf834-e030-4f0a-a22c-cab3a5c66675"
      },
      "source": [
        "img_index = 1\n",
        "img1 = cv2.imread(os.path.join(train_rw_path,'{}{:04d}{}.png'.format(sp_filename,img_index,rw_filename)))\n",
        "img_data = loadmat(os.path.join(train_spec_path,'{}{:04d}.mat'.format(sp_filename,img_index)))\n",
        "img_bands,img2 = img_data['bands'],img_data['cube']\n",
        "print('RGB image shape :',img1.shape,' || type :',type(img1))\n",
        "print('Spectral image shape :',img2.shape,' || type :',type(img2))"
      ],
      "execution_count": null,
      "outputs": [
        {
          "name": "stdout",
          "output_type": "stream",
          "text": [
            "RGB image shape : (256, 256, 3)  || type : <class 'numpy.ndarray'>\n",
            "Spectral image shape : (256, 256, 31)  || type : <class 'numpy.ndarray'>\n"
          ]
        }
      ]
    },
    {
      "cell_type": "code",
      "metadata": {
        "id": "ohpddn8-VgXn"
      },
      "source": [
        "bands = [400, 410, 420, 430, 440, 450, 460, 470, 480, 490, 500, 510, 520, 530, 540, 550, 560, 570, 580, 590, 600, 610, 620, 630, 640, 650, 660, 670, 680, 690, 700]"
      ],
      "execution_count": null,
      "outputs": []
    },
    {
      "cell_type": "code",
      "metadata": {
        "id": "Abj0H6qZSmoz"
      },
      "source": [
        "def getImage(indexs):\n",
        "  jpgs , specs = [],[]\n",
        "  for index in indexs:\n",
        "    jpg = cv2.imread(os.path.join(train_rw_path,'{}{:04d}{}.png'.format(sp_filename,index,rw_filename)))\n",
        "    data = loadmat(os.path.join(train_spec_path,'{}{:04d}.mat'.format(sp_filename,index)))\n",
        "    spec = data['cube'][:,:,12:15]\n",
        "    jpgs.append(jpg)\n",
        "    specs.append(spec)\n",
        "  \n",
        "  jpgs = tr.from_numpy(np.array(jpgs))\n",
        "  specs = tr.Tensor(specs)\n",
        "  jpgs = tr.reshape(jpgs,(len(indexs),3,256,256))\n",
        "  specs = tr.reshape(specs,(len(indexs),3,256,256))\n",
        "  \n",
        "  return jpgs,specs"
      ],
      "execution_count": null,
      "outputs": []
    },
    {
      "cell_type": "code",
      "metadata": {
        "colab": {
          "base_uri": "https://localhost:8080/",
          "height": 635
        },
        "id": "Wyg8d1uqSs3C",
        "outputId": "3782332c-47af-4f73-b1e0-4aa61da4aad7"
      },
      "source": [
        "jpgs,specs = getImage([450])\n",
        "\n",
        "jpg = tr.reshape(jpgs,(256,256,3))\n",
        "spec = tr.reshape(specs,(256,256,3))\n",
        "\n",
        "# plot the pics \n",
        "plt.figure(figsize=(8,10))\n",
        "plt.subplot(2,2,1)\n",
        "plt.title('RGB Image')\n",
        "plt.axis('off')\n",
        "plt.imshow(jpg,cmap='gray')\n",
        "\n",
        "plt.subplot(2,2,2)\n",
        "plt.title('First Channel of the Spec Image')\n",
        "plt.axis('off')\n",
        "img = tr.reshape(spec[:,:,:1],(256,256))\n",
        "plt.imshow(img,cmap='gray')\n",
        "\n",
        "plt.subplot(2,2,3)\n",
        "plt.title('Second Channel of the Spec Image')\n",
        "plt.axis('off')\n",
        "img = tr.reshape(spec[:,:,1:2],(256,256))\n",
        "plt.imshow(img,cmap='gray')\n",
        "\n",
        "plt.subplot(2,2,4)\n",
        "plt.title('Third Channel of the Spec Image')\n",
        "plt.axis('off')\n",
        "img = tr.reshape(spec[:,:,2:],(256,256))\n",
        "plt.imshow(img,cmap='gray')\n",
        "plt.show()"
      ],
      "execution_count": null,
      "outputs": [
        {
          "name": "stderr",
          "output_type": "stream",
          "text": [
            "/usr/local/lib/python3.7/dist-packages/ipykernel_launcher.py:11: UserWarning:\n",
            "\n",
            "Creating a tensor from a list of numpy.ndarrays is extremely slow. Please consider converting the list to a single numpy.ndarray with numpy.array() before converting to a tensor. (Triggered internally at  ../torch/csrc/utils/tensor_new.cpp:201.)\n",
            "\n"
          ]
        },
        {
          "data": {
            "image/png": "[encoded data removed]",
            "text/plain": [
              "<Figure size 576x720 with 4 Axes>"
            ]
          },
          "metadata": {},
          "output_type": "display_data"
        }
      ]
    },
    {
      "cell_type": "code",
      "metadata": {
        "id": "01ftFXrWTABw"
      },
      "source": [
        "# Generator Model\n",
        "class Generator(nn.Module):\n",
        "  def __init__(self):\n",
        "    super(Generator,self).__init__()\n",
        "    self.leaky1 = nn.LeakyReLU(0.2)\n",
        "    self.leaky2 = nn.LeakyReLU(0.2)\n",
        "    self.leaky3 = nn.LeakyReLU(0.2)\n",
        "    self.leaky4 = nn.LeakyReLU(0.2)\n",
        "   \n",
        "\n",
        "    self.relu1 = nn.ReLU(inplace=True)\n",
        "    self.relu2 = nn.ReLU(inplace=True)\n",
        "    self.relu3 = nn.ReLU(inplace=True)\n",
        "    self.relu4 = nn.ReLU(inplace=True)\n",
        "    self.relu5 = nn.ReLU(inplace=True)\n",
        "  \n",
        "    self.bn1_64 = nn.BatchNorm2d(64)\n",
        "    self.bn2_64 = nn.BatchNorm2d(64)\n",
        "\n",
        "    self.bn1_128 = nn.BatchNorm2d(128)\n",
        "    self.bn2_128 = nn.BatchNorm2d(128)\n",
        "\n",
        "    self.bn1_256 = nn.BatchNorm2d(256)\n",
        "    self.bn2_256 = nn.BatchNorm2d(256)\n",
        "\n",
        "    self.bn1_512 = nn.BatchNorm2d(512)\n",
        "    self.bn2_512 = nn.BatchNorm2d(512)\n",
        "    self.bn3_512 = nn.BatchNorm2d(512)\n",
        "    self.bn4_512 = nn.BatchNorm2d(512)\n",
        "\n",
        "    self.drop1 = nn.Dropout(0.5)\n",
        "    self.drop2 = nn.Dropout(0.5)\n",
        "    \n",
        "\n",
        "    self.tanh = nn.Tanh()\n",
        "\n",
        "    self.conv1 = nn.Conv2d(3,64,kernel_size=4,stride=2,padding=1)\n",
        "    self.conv2 = nn.Conv2d(64,128,kernel_size=4,stride=2,padding=1)\n",
        "    self.conv3 = nn.Conv2d(128,256,kernel_size=4,stride=2,padding=1)\n",
        "    self.conv4 = nn.Conv2d(256,512,kernel_size=4,stride=2,padding=1)\n",
        "   \n",
        "    \n",
        "    self.bottleneck = nn.Conv2d(512,512,kernel_size=4,stride=2,padding=1)\n",
        "\n",
        "    self.tconv1 = nn.ConvTranspose2d(512,512,kernel_size=4,stride=2,padding=1)\n",
        "    self.tconv2 = nn.ConvTranspose2d(1024,256,kernel_size=4,stride=2,padding=1) # 1,5\n",
        "    self.tconv3 = nn.ConvTranspose2d(512,128,kernel_size=4,stride=2,padding=1) # 2,4 \n",
        "    self.tconv4 = nn.ConvTranspose2d(256,64,kernel_size=4,stride=2,padding=1) # 3,3\n",
        "  \n",
        "\n",
        "    self.final = nn.ConvTranspose2d(128,3,kernel_size=4,stride=2,padding=1) # 5,1\n",
        "    \n",
        "    \n",
        "  def forward(self,x):\n",
        "    d1 = self.leaky1(self.conv1(x))\n",
        "    d2 = self.leaky2(self.bn1_128(self.conv2(d1)))\n",
        "    d3 = self.leaky3(self.bn1_256(self.conv3(d2)))\n",
        "    d4 = self.leaky4(self.bn1_512(self.conv4(d3)))\n",
        "   \n",
        "    bottleneck = self.drop1(self.relu1(self.bottleneck(d4)))\n",
        "    \n",
        "    up1 = self.drop2(self.relu2(self.bn2_512(self.tconv1(bottleneck))))\n",
        "    up2 = self.relu3(self.bn2_256(self.tconv2(tr.cat([up1,d4],1))))\n",
        "    up3 = self.relu4(self.bn2_128(self.tconv3(tr.cat([up2,d3],1))))\n",
        "    up4 = self.relu5(self.bn1_64(self.tconv4(tr.cat([up3,d2],1))))\n",
        " \n",
        "    final = self.tanh(self.final(tr.cat([up4,d1],1)))\n",
        "\n",
        "    return final\n"
      ],
      "execution_count": null,
      "outputs": []
    },
    {
      "cell_type": "code",
      "metadata": {
        "colab": {
          "base_uri": "https://localhost:8080/"
        },
        "id": "CewaeWW6U08L",
        "outputId": "f85249a1-648f-4c42-e387-7d7174fff1e6"
      },
      "source": [
        "netG = Generator().to(device)\n",
        "if __name__ == '__main__':\n",
        "  with tr.no_grad():\n",
        "      input = tr.randn((1,3,256,256),device=device)\n",
        "      start = time()\n",
        "      output = netG(input)\n",
        "      end = time()\n",
        "      print('time :',end-start,'sec')\n",
        "      print(output.shape)\n",
        "print(netG)"
      ],
      "execution_count": null,
      "outputs": [
        {
          "name": "stdout",
          "output_type": "stream",
          "text": [
            "time : 0.354888916015625 sec\n",
            "torch.Size([1, 3, 256, 256])\n",
            "Generator(\n",
            "  (leaky1): LeakyReLU(negative_slope=0.2)\n",
            "  (leaky2): LeakyReLU(negative_slope=0.2)\n",
            "  (leaky3): LeakyReLU(negative_slope=0.2)\n",
            "  (leaky4): LeakyReLU(negative_slope=0.2)\n",
            "  (relu1): ReLU(inplace=True)\n",
            "  (relu2): ReLU(inplace=True)\n",
            "  (relu3): ReLU(inplace=True)\n",
            "  (relu4): ReLU(inplace=True)\n",
            "  (relu5): ReLU(inplace=True)\n",
            "  (bn1_64): BatchNorm2d(64, eps=1e-05, momentum=0.1, affine=True, track_running_stats=True)\n",
            "  (bn2_64): BatchNorm2d(64, eps=1e-05, momentum=0.1, affine=True, track_running_stats=True)\n",
            "  (bn1_128): BatchNorm2d(128, eps=1e-05, momentum=0.1, affine=True, track_running_stats=True)\n",
            "  (bn2_128): BatchNorm2d(128, eps=1e-05, momentum=0.1, affine=True, track_running_stats=True)\n",
            "  (bn1_256): BatchNorm2d(256, eps=1e-05, momentum=0.1, affine=True, track_running_stats=True)\n",
            "  (bn2_256): BatchNorm2d(256, eps=1e-05, momentum=0.1, affine=True, track_running_stats=True)\n",
            "  (bn1_512): BatchNorm2d(512, eps=1e-05, momentum=0.1, affine=True, track_running_stats=True)\n",
            "  (bn2_512): BatchNorm2d(512, eps=1e-05, momentum=0.1, affine=True, track_running_stats=True)\n",
            "  (bn3_512): BatchNorm2d(512, eps=1e-05, momentum=0.1, affine=True, track_running_stats=True)\n",
            "  (bn4_512): BatchNorm2d(512, eps=1e-05, momentum=0.1, affine=True, track_running_stats=True)\n",
            "  (drop1): Dropout(p=0.5, inplace=False)\n",
            "  (drop2): Dropout(p=0.5, inplace=False)\n",
            "  (tanh): Tanh()\n",
            "  (conv1): Conv2d(3, 64, kernel_size=(4, 4), stride=(2, 2), padding=(1, 1))\n",
            "  (conv2): Conv2d(64, 128, kernel_size=(4, 4), stride=(2, 2), padding=(1, 1))\n",
            "  (conv3): Conv2d(128, 256, kernel_size=(4, 4), stride=(2, 2), padding=(1, 1))\n",
            "  (conv4): Conv2d(256, 512, kernel_size=(4, 4), stride=(2, 2), padding=(1, 1))\n",
            "  (bottleneck): Conv2d(512, 512, kernel_size=(4, 4), stride=(2, 2), padding=(1, 1))\n",
            "  (tconv1): ConvTranspose2d(512, 512, kernel_size=(4, 4), stride=(2, 2), padding=(1, 1))\n",
            "  (tconv2): ConvTranspose2d(1024, 256, kernel_size=(4, 4), stride=(2, 2), padding=(1, 1))\n",
            "  (tconv3): ConvTranspose2d(512, 128, kernel_size=(4, 4), stride=(2, 2), padding=(1, 1))\n",
            "  (tconv4): ConvTranspose2d(256, 64, kernel_size=(4, 4), stride=(2, 2), padding=(1, 1))\n",
            "  (final): ConvTranspose2d(128, 3, kernel_size=(4, 4), stride=(2, 2), padding=(1, 1))\n",
            ")\n"
          ]
        }
      ]
    },
    {
      "cell_type": "code",
      "metadata": {
        "id": "e9BiNkxSm3pw"
      },
      "source": [
        "# Discriminator Model\n",
        "class Discriminator(nn.Module):\n",
        "  def __init__(self):\n",
        "    super(Discriminator,self).__init__()\n",
        "    self.leaky1 = nn.LeakyReLU(0.2)\n",
        "    self.leaky2 = nn.LeakyReLU(0.2)\n",
        "    self.leaky3 = nn.LeakyReLU(0.2)\n",
        "    self.leaky4 = nn.LeakyReLU(0.2)\n",
        "\n",
        "    self.bn128 = nn.BatchNorm2d(128)\n",
        "    self.bn256 = nn.BatchNorm2d(256)\n",
        "    self.bn512 = nn.BatchNorm2d(512)\n",
        "\n",
        "\n",
        "    self.conv1 = nn.Conv2d(6,64,kernel_size=4,stride=1,padding=1)\n",
        "    self.conv2 = nn.Conv2d(64,128,kernel_size=4,stride=2,padding=1)\n",
        "    self.conv3 = nn.Conv2d(128,256,kernel_size=4,stride=2,padding=1)\n",
        "    self.conv4 = nn.Conv2d(256,512,kernel_size=4,stride=2,padding=1)\n",
        "    self.final = nn.Conv2d(512,1,kernel_size=4,stride=1,padding=1)\n",
        "\n",
        "  def forward(self,x):\n",
        "    d1 = self.leaky1(self.conv1(x))\n",
        "    d2 = self.leaky2(self.bn128(self.conv2(d1)))\n",
        "    d3 = self.leaky3(self.bn256(self.conv3(d2)))\n",
        "    d4 = self.leaky4(self.bn512(self.conv4(d3)))\n",
        "    final = nn.Sigmoid()(self.final(d4))\n",
        "    return final"
      ],
      "execution_count": null,
      "outputs": []
    },
    {
      "cell_type": "code",
      "metadata": {
        "colab": {
          "base_uri": "https://localhost:8080/"
        },
        "id": "nwa51r-oppXZ",
        "outputId": "c6572e90-2651-47e3-936d-c70b1fbb9be5"
      },
      "source": [
        "netD = Discriminator().to(device)\n",
        "if __name__ == '__main__':\n",
        "  with tr.no_grad():\n",
        "    input = tr.randn((1,6,256,256),device=device)\n",
        "    start = time()\n",
        "    output = netD(input)\n",
        "    end = time()\n",
        "    print('time :',end-start,'sec')\n",
        "    print(output.shape)\n",
        "print(netD)"
      ],
      "execution_count": null,
      "outputs": [
        {
          "name": "stdout",
          "output_type": "stream",
          "text": [
            "time : 0.01588726043701172 sec\n",
            "torch.Size([1, 1, 30, 30])\n",
            "Discriminator(\n",
            "  (leaky1): LeakyReLU(negative_slope=0.2)\n",
            "  (leaky2): LeakyReLU(negative_slope=0.2)\n",
            "  (leaky3): LeakyReLU(negative_slope=0.2)\n",
            "  (leaky4): LeakyReLU(negative_slope=0.2)\n",
            "  (bn128): BatchNorm2d(128, eps=1e-05, momentum=0.1, affine=True, track_running_stats=True)\n",
            "  (bn256): BatchNorm2d(256, eps=1e-05, momentum=0.1, affine=True, track_running_stats=True)\n",
            "  (bn512): BatchNorm2d(512, eps=1e-05, momentum=0.1, affine=True, track_running_stats=True)\n",
            "  (conv1): Conv2d(6, 64, kernel_size=(4, 4), stride=(1, 1), padding=(1, 1))\n",
            "  (conv2): Conv2d(64, 128, kernel_size=(4, 4), stride=(2, 2), padding=(1, 1))\n",
            "  (conv3): Conv2d(128, 256, kernel_size=(4, 4), stride=(2, 2), padding=(1, 1))\n",
            "  (conv4): Conv2d(256, 512, kernel_size=(4, 4), stride=(2, 2), padding=(1, 1))\n",
            "  (final): Conv2d(512, 1, kernel_size=(4, 4), stride=(1, 1), padding=(1, 1))\n",
            ")\n"
          ]
        }
      ]
    },
    {
      "cell_type": "code",
      "metadata": {
        "id": "uwIAQs-dS91J"
      },
      "source": [
        "batch_size = 1\n",
        "lrG = 2e-4\n",
        "lrD = 2e-4\n",
        "num_epochs = 20\n",
        "criterion = nn.BCELoss()\n",
        "L1 = nn.L1Loss()"
      ],
      "execution_count": null,
      "outputs": []
    },
    {
      "cell_type": "code",
      "metadata": {
        "colab": {
          "background_save": true,
          "base_uri": "https://localhost:8080/"
        },
        "id": "w2t2RTkbqcM-",
        "outputId": "c1bba1b0-ca68-427f-a0c5-013b5475cd19"
      },
      "source": [
        "# train the model\n",
        "G_errors , D_errors = [],[]\n",
        "\n",
        "def model_train(trail):\n",
        "  global G_errors,D_errors \n",
        "  lmd = trail.suggest_uniform('lmd',50,500)\n",
        "  # lrG = trail.suggest_uniform('lrG',2e-4,1e-1)\n",
        "  # lrD = trail.suggest_uniform('lrD',2e-4,1e-1)\n",
        "  # b1 = trail.suggest_uniform('b1',0.1,0.99)\n",
        "  # b2 = trail.suggest_uniform('b2',0.1,0.99)\n",
        "\n",
        "  optimizerG = tr.optim.Adam(netG.parameters(),lr=lrG,betas=(0.5,0.999))\n",
        "  optimizerD = tr.optim.Adam(netD.parameters(),lr=lrD,betas=(0.5,0.999))\n",
        "  g_scaler = tr.cuda.amp.GradScaler()\n",
        "  d_scaler = tr.cuda.amp.GradScaler()\n",
        "\n",
        "\n",
        "  G_errors , D_errors = [],[]\n",
        "  for epoch in range(num_epochs):\n",
        "    tG , tD = 0 , 0\n",
        "    G_targets,G_preds = [],[]\n",
        "    D_targets,D_preds = [],[]\n",
        "    for i in tqdm(range(1,451,batch_size),desc=f'Training.... {epoch}'):\n",
        "      netD.zero_grad()\n",
        "      indexs = [j for j in range(i,i+batch_size if i+batch_size <= 451 else 451)]\n",
        "      jpgs_real,specs_real = getImage(indexs)\n",
        "      jpgs_real = jpgs_real.to(device)\n",
        "      specs_real = specs_real.to(device)\n",
        "      specs_fake = netG(jpgs_real.float())\n",
        "\n",
        "      concat_real = tr.cat((jpgs_real,specs_real),1)\n",
        "      real_patch = netD(concat_real)\n",
        "\n",
        "\n",
        "      concat_fake = tr.cat((jpgs_real,specs_fake),1)\n",
        "      fake_patch = netD(concat_fake.detach())\n",
        "\n",
        "      real_label = tr.ones_like(real_patch,dtype=tr.float,device=device)\n",
        "      real_loss = criterion(real_patch,real_label)\n",
        "\n",
        "      G_targets.append([val for val in real_label.reshape((-1))])\n",
        "      G_preds.append([val for val in real_patch.reshape((-1))])\n",
        "      \n",
        "\n",
        "      fake_label = tr.zeros_like(fake_patch,dtype=tr.float,device=device)\n",
        "      fake_loss = criterion(fake_patch,fake_label)\n",
        "\n",
        "      D_targets.append([val for val in fake_label.reshape((-1))])\n",
        "      D_preds.append([val for val in fake_patch.reshape((-1))])\n",
        "      \n",
        "      D_loss = (real_loss + fake_loss)/2\n",
        "      tD += D_loss.item()\n",
        "      d_scaler.scale(D_loss).backward()\n",
        "      d_scaler.step(optimizerD)\n",
        "      d_scaler.update()\n",
        "      \n",
        "      netG.zero_grad()\n",
        "      real_label.fill_(1)\n",
        "      fake_patch = netD(concat_fake)\n",
        "      netG_Adv_Loss = criterion(fake_patch,real_label)\n",
        "      L1_loss = L1(specs_fake,specs_real.to(device))\n",
        "      G_loss = netG_Adv_Loss + L1_loss*lmd\n",
        "      tG += G_loss.item()\n",
        "\n",
        "      g_scaler.scale(G_loss).backward()\n",
        "      g_scaler.step(optimizerG)\n",
        "      g_scaler.update()\n",
        "      \n",
        "    G_errors.append(tG)\n",
        "    D_errors.append(tD)\n",
        "    G_mse,D_mse = mean_squared_error(G_targets,G_preds),mean_squared_error(D_targets,D_preds)\n",
        "    print(f'Gloss : {G_errors[-1]}, Dloss : {D_errors[-1]}')\n",
        "    print(f'GMSE : {G_mse}, DMSE : {D_mse}')\n",
        "    \n",
        "  return G_mse+D_mse\n",
        "\n",
        "study = optuna.create_study()\n",
        "study.optimize(model_train,n_trials=10)\n",
        "study.best_params"
      ],
      "execution_count": null,
      "outputs": [
        {
          "name": "stderr",
          "output_type": "stream",
          "text": [
            "\u001b[32m[I 2021-11-14 06:46:26,487]\u001b[0m A new study created in memory with name: no-name-a725839f-fc41-4e59-8080-4b430fa1a208\u001b[0m\n",
            "Training.... 0: 100%|██████████| 450/450 [08:15<00:00,  1.10s/it]\n"
          ]
        },
        {
          "name": "stdout",
          "output_type": "stream",
          "text": [
            "Gloss : 56056.28742599487, Dloss : 314.79291677474976\n",
            "GMSE : 0.2528879757120568, DMSE : 0.2526036603659616\n"
          ]
        },
        {
          "name": "stderr",
          "output_type": "stream",
          "text": [
            "Training.... 1: 100%|██████████| 450/450 [01:51<00:00,  4.03it/s]\n"
          ]
        },
        {
          "name": "stdout",
          "output_type": "stream",
          "text": [
            "Gloss : 49703.15942001343, Dloss : 312.36452692747116\n",
            "GMSE : 0.25056901734488535, DMSE : 0.25021285490101103\n"
          ]
        },
        {
          "name": "stderr",
          "output_type": "stream",
          "text": [
            "Training.... 2: 100%|██████████| 450/450 [01:48<00:00,  4.14it/s]\n"
          ]
        },
        {
          "name": "stdout",
          "output_type": "stream",
          "text": [
            "Gloss : 45434.4135093689, Dloss : 191.8087112084031\n",
            "GMSE : 0.1326382013510367, DMSE : 0.14073982511646588\n"
          ]
        },
        {
          "name": "stderr",
          "output_type": "stream",
          "text": [
            "Training.... 3: 100%|██████████| 450/450 [01:49<00:00,  4.12it/s]\n"
          ]
        },
        {
          "name": "stdout",
          "output_type": "stream",
          "text": [
            "Gloss : 43176.00341796875, Dloss : 55.71629985840991\n",
            "GMSE : 0.025252356173443173, DMSE : 0.03146753343089306\n"
          ]
        },
        {
          "name": "stderr",
          "output_type": "stream",
          "text": [
            "Training.... 4: 100%|██████████| 450/450 [01:48<00:00,  4.14it/s]\n"
          ]
        },
        {
          "name": "stdout",
          "output_type": "stream",
          "text": [
            "Gloss : 41008.40951538086, Dloss : 20.158400246407837\n",
            "GMSE : 0.008384353153132788, DMSE : 0.009451766747551178\n"
          ]
        },
        {
          "name": "stderr",
          "output_type": "stream",
          "text": [
            "Training.... 5: 100%|██████████| 450/450 [01:47<00:00,  4.17it/s]\n"
          ]
        },
        {
          "name": "stdout",
          "output_type": "stream",
          "text": [
            "Gloss : 39778.38399505615, Dloss : 15.328897908446379\n",
            "GMSE : 0.0070122225449975855, DMSE : 0.008174505431726068\n"
          ]
        },
        {
          "name": "stderr",
          "output_type": "stream",
          "text": [
            "Training.... 6: 100%|██████████| 450/450 [01:47<00:00,  4.19it/s]\n"
          ]
        },
        {
          "name": "stdout",
          "output_type": "stream",
          "text": [
            "Gloss : 39840.3835105896, Dloss : 39.95999434811529\n",
            "GMSE : 0.019988687949612192, DMSE : 0.023401767291236737\n"
          ]
        },
        {
          "name": "stderr",
          "output_type": "stream",
          "text": [
            "Training.... 7: 100%|██████████| 450/450 [01:48<00:00,  4.14it/s]\n"
          ]
        },
        {
          "name": "stdout",
          "output_type": "stream",
          "text": [
            "Gloss : 37756.1674156189, Dloss : 18.73150627000723\n",
            "GMSE : 0.01002664197593639, DMSE : 0.010423600271455679\n"
          ]
        },
        {
          "name": "stderr",
          "output_type": "stream",
          "text": [
            "Training.... 8: 100%|██████████| 450/450 [01:48<00:00,  4.16it/s]\n"
          ]
        },
        {
          "name": "stdout",
          "output_type": "stream",
          "text": [
            "Gloss : 36513.547592163086, Dloss : 24.64211828436237\n",
            "GMSE : 0.01207338014467645, DMSE : 0.012159624221609799\n"
          ]
        },
        {
          "name": "stderr",
          "output_type": "stream",
          "text": [
            "Training.... 9: 100%|██████████| 450/450 [01:47<00:00,  4.18it/s]\n"
          ]
        },
        {
          "name": "stdout",
          "output_type": "stream",
          "text": [
            "Gloss : 36884.48120498657, Dloss : 10.447614905599039\n",
            "GMSE : 0.005796134634344079, DMSE : 0.0059386433091645945\n"
          ]
        },
        {
          "name": "stderr",
          "output_type": "stream",
          "text": [
            "Training.... 10: 100%|██████████| 450/450 [01:46<00:00,  4.21it/s]\n"
          ]
        },
        {
          "name": "stdout",
          "output_type": "stream",
          "text": [
            "Gloss : 34298.240842819214, Dloss : 4.30316095019225\n",
            "GMSE : 0.0008479947170963192, DMSE : 0.002593467947561465\n"
          ]
        },
        {
          "name": "stderr",
          "output_type": "stream",
          "text": [
            "Training.... 11: 100%|██████████| 450/450 [01:49<00:00,  4.13it/s]\n"
          ]
        },
        {
          "name": "stdout",
          "output_type": "stream",
          "text": [
            "Gloss : 34019.33661842346, Dloss : 3.057458645751467\n",
            "GMSE : 0.0010533456580468802, DMSE : 0.0015094083490125468\n"
          ]
        },
        {
          "name": "stderr",
          "output_type": "stream",
          "text": [
            "Training.... 12: 100%|██████████| 450/450 [01:47<00:00,  4.18it/s]\n"
          ]
        },
        {
          "name": "stdout",
          "output_type": "stream",
          "text": [
            "Gloss : 31649.931671142578, Dloss : 26.307230774633354\n",
            "GMSE : 0.015779383944411782, DMSE : 0.015044765292446851\n"
          ]
        },
        {
          "name": "stderr",
          "output_type": "stream",
          "text": [
            "Training.... 13: 100%|██████████| 450/450 [01:47<00:00,  4.19it/s]\n"
          ]
        },
        {
          "name": "stdout",
          "output_type": "stream",
          "text": [
            "Gloss : 32122.979106903076, Dloss : 25.056160463398555\n",
            "GMSE : 0.012952997970352776, DMSE : 0.013093623845194365\n"
          ]
        },
        {
          "name": "stderr",
          "output_type": "stream",
          "text": [
            "Training.... 14: 100%|██████████| 450/450 [01:48<00:00,  4.17it/s]\n"
          ]
        },
        {
          "name": "stdout",
          "output_type": "stream",
          "text": [
            "Gloss : 31876.647356033325, Dloss : 7.376789046247723\n",
            "GMSE : 0.0026330471867290267, DMSE : 0.0043548633770504755\n"
          ]
        },
        {
          "name": "stderr",
          "output_type": "stream",
          "text": [
            "Training.... 15: 100%|██████████| 450/450 [01:47<00:00,  4.20it/s]\n"
          ]
        },
        {
          "name": "stdout",
          "output_type": "stream",
          "text": [
            "Gloss : 31203.115533828735, Dloss : 3.771798766036227\n",
            "GMSE : 0.0016321944305235563, DMSE : 0.0022028364433112403\n"
          ]
        },
        {
          "name": "stderr",
          "output_type": "stream",
          "text": [
            "Training.... 16: 100%|██████████| 450/450 [01:47<00:00,  4.19it/s]\n"
          ]
        },
        {
          "name": "stdout",
          "output_type": "stream",
          "text": [
            "Gloss : 31792.44422531128, Dloss : 0.6710128791746683\n",
            "GMSE : 2.547318317396572e-05, DMSE : 9.97148980040795e-05\n"
          ]
        },
        {
          "name": "stderr",
          "output_type": "stream",
          "text": [
            "Training.... 17: 100%|██████████| 450/450 [01:48<00:00,  4.13it/s]\n"
          ]
        },
        {
          "name": "stdout",
          "output_type": "stream",
          "text": [
            "Gloss : 30771.167064666748, Dloss : 46.914810070775275\n",
            "GMSE : 0.021242615771629003, DMSE : 0.021126863217419075\n"
          ]
        },
        {
          "name": "stderr",
          "output_type": "stream",
          "text": [
            "Training.... 18: 100%|██████████| 450/450 [01:47<00:00,  4.21it/s]\n"
          ]
        },
        {
          "name": "stdout",
          "output_type": "stream",
          "text": [
            "Gloss : 28044.975351333618, Dloss : 11.718997019095696\n",
            "GMSE : 0.005078682754862237, DMSE : 0.007786693733136299\n"
          ]
        },
        {
          "name": "stderr",
          "output_type": "stream",
          "text": [
            "Training.... 19: 100%|██████████| 450/450 [01:48<00:00,  4.15it/s]\n",
            "\u001b[32m[I 2021-11-14 07:34:32,547]\u001b[0m Trial 0 finished with value: 0.0005551372632008407 and parameters: {'lmd': 157.79845558750935}. Best is trial 0 with value: 0.0005551372632008407.\u001b[0m\n"
          ]
        },
        {
          "name": "stdout",
          "output_type": "stream",
          "text": [
            "Gloss : 28069.44008255005, Dloss : 1.2621310406611883\n",
            "GMSE : 0.00013362630310424407, DMSE : 0.0004215109600965967\n"
          ]
        },
        {
          "name": "stderr",
          "output_type": "stream",
          "text": [
            "Training.... 0: 100%|██████████| 450/450 [01:47<00:00,  4.20it/s]\n"
          ]
        },
        {
          "name": "stdout",
          "output_type": "stream",
          "text": [
            "Gloss : 28180.904790878296, Dloss : 9.75834598482652\n",
            "GMSE : 0.00411105288421226, DMSE : 0.00503873301004066\n"
          ]
        },
        {
          "name": "stderr",
          "output_type": "stream",
          "text": [
            "Training.... 1: 100%|██████████| 450/450 [01:47<00:00,  4.17it/s]\n"
          ]
        },
        {
          "name": "stdout",
          "output_type": "stream",
          "text": [
            "Gloss : 27965.913524627686, Dloss : 18.332028401375283\n",
            "GMSE : 0.009998347981416649, DMSE : 0.011423519442759048\n"
          ]
        },
        {
          "name": "stderr",
          "output_type": "stream",
          "text": [
            "Training.... 2: 100%|██████████| 450/450 [01:47<00:00,  4.17it/s]\n"
          ]
        },
        {
          "name": "stdout",
          "output_type": "stream",
          "text": [
            "Gloss : 28398.073972702026, Dloss : 6.5299824182802695\n",
            "GMSE : 0.003968491742296213, DMSE : 0.0034237583846893197\n"
          ]
        },
        {
          "name": "stderr",
          "output_type": "stream",
          "text": [
            "Training.... 3: 100%|██████████| 450/450 [01:47<00:00,  4.18it/s]\n"
          ]
        },
        {
          "name": "stdout",
          "output_type": "stream",
          "text": [
            "Gloss : 28267.914138793945, Dloss : 0.7884380018404045\n",
            "GMSE : 5.092925178948715e-05, DMSE : 0.0002227608647564069\n"
          ]
        },
        {
          "name": "stderr",
          "output_type": "stream",
          "text": [
            "Training.... 4: 100%|██████████| 450/450 [01:47<00:00,  4.19it/s]\n"
          ]
        },
        {
          "name": "stdout",
          "output_type": "stream",
          "text": [
            "Gloss : 27513.746377944946, Dloss : 0.18197091038018698\n",
            "GMSE : 1.6838493079696445e-06, DMSE : 1.5876617873150395e-06\n"
          ]
        },
        {
          "name": "stderr",
          "output_type": "stream",
          "text": [
            "Training.... 5: 100%|██████████| 450/450 [01:48<00:00,  4.15it/s]\n"
          ]
        },
        {
          "name": "stdout",
          "output_type": "stream",
          "text": [
            "Gloss : 27873.964056015015, Dloss : 21.54566111672466\n",
            "GMSE : 0.00976744419454457, DMSE : 0.010276434709476435\n"
          ]
        },
        {
          "name": "stderr",
          "output_type": "stream",
          "text": [
            "Training.... 6: 100%|██████████| 450/450 [01:47<00:00,  4.18it/s]\n"
          ]
        },
        {
          "name": "stdout",
          "output_type": "stream",
          "text": [
            "Gloss : 26948.45175552368, Dloss : 2.0992939920906792\n",
            "GMSE : 0.0005535279841981221, DMSE : 0.0012460252636877316\n"
          ]
        },
        {
          "name": "stderr",
          "output_type": "stream",
          "text": [
            "Training.... 7: 100%|██████████| 450/450 [01:48<00:00,  4.17it/s]\n"
          ]
        },
        {
          "name": "stdout",
          "output_type": "stream",
          "text": [
            "Gloss : 26323.068603515625, Dloss : 12.943744422922464\n",
            "GMSE : 0.0053994373187628425, DMSE : 0.00446406561636936\n"
          ]
        },
        {
          "name": "stderr",
          "output_type": "stream",
          "text": [
            "Training.... 8: 100%|██████████| 450/450 [01:47<00:00,  4.17it/s]\n"
          ]
        },
        {
          "name": "stdout",
          "output_type": "stream",
          "text": [
            "Gloss : 26719.186237335205, Dloss : 0.6646596754253551\n",
            "GMSE : 5.45394909756218e-05, DMSE : 9.518855565484266e-05\n"
          ]
        },
        {
          "name": "stderr",
          "output_type": "stream",
          "text": [
            "Training.... 9: 100%|██████████| 450/450 [01:47<00:00,  4.18it/s]\n"
          ]
        },
        {
          "name": "stdout",
          "output_type": "stream",
          "text": [
            "Gloss : 26426.627923965454, Dloss : 9.03755489055402\n",
            "GMSE : 0.0049384019575380725, DMSE : 0.0009774360462290934\n"
          ]
        },
        {
          "name": "stderr",
          "output_type": "stream",
          "text": [
            "Training.... 10: 100%|██████████| 450/450 [01:48<00:00,  4.14it/s]\n"
          ]
        },
        {
          "name": "stdout",
          "output_type": "stream",
          "text": [
            "Gloss : 23689.60986804962, Dloss : 120.51058588596061\n",
            "GMSE : 0.06935307384168173, DMSE : 0.07829271310239234\n"
          ]
        },
        {
          "name": "stderr",
          "output_type": "stream",
          "text": [
            "Training.... 11: 100%|██████████| 450/450 [01:47<00:00,  4.18it/s]\n"
          ]
        },
        {
          "name": "stdout",
          "output_type": "stream",
          "text": [
            "Gloss : 24723.291717529297, Dloss : 2.075753288634587\n",
            "GMSE : 0.00019971051363801986, DMSE : 0.0005312857461301275\n"
          ]
        },
        {
          "name": "stderr",
          "output_type": "stream",
          "text": [
            "Training.... 12: 100%|██████████| 450/450 [01:48<00:00,  4.15it/s]\n"
          ]
        },
        {
          "name": "stdout",
          "output_type": "stream",
          "text": [
            "Gloss : 25456.356820106506, Dloss : 0.9052781556456466\n",
            "GMSE : 5.3238382739976574e-05, DMSE : 9.498343757002312e-05\n"
          ]
        },
        {
          "name": "stderr",
          "output_type": "stream",
          "text": [
            "Training.... 13: 100%|██████████| 450/450 [01:47<00:00,  4.21it/s]\n"
          ]
        },
        {
          "name": "stdout",
          "output_type": "stream",
          "text": [
            "Gloss : 24372.147004127502, Dloss : 0.8588357608459773\n",
            "GMSE : 7.42374869866897e-05, DMSE : 0.00010892482762244676\n"
          ]
        },
        {
          "name": "stderr",
          "output_type": "stream",
          "text": [
            "Training.... 14: 100%|██████████| 450/450 [01:48<00:00,  4.15it/s]\n"
          ]
        },
        {
          "name": "stdout",
          "output_type": "stream",
          "text": [
            "Gloss : 23617.582487106323, Dloss : 0.4897353031701641\n",
            "GMSE : 2.305539343963387e-05, DMSE : 4.3745627743318564e-05\n"
          ]
        },
        {
          "name": "stderr",
          "output_type": "stream",
          "text": [
            "Training.... 15: 100%|██████████| 450/450 [01:47<00:00,  4.18it/s]\n"
          ]
        },
        {
          "name": "stdout",
          "output_type": "stream",
          "text": [
            "Gloss : 23686.874263763428, Dloss : 31.89563127845031\n",
            "GMSE : 0.01664610826499631, DMSE : 0.017027995179016604\n"
          ]
        },
        {
          "name": "stderr",
          "output_type": "stream",
          "text": [
            "Training.... 16: 100%|██████████| 450/450 [01:47<00:00,  4.18it/s]\n"
          ]
        },
        {
          "name": "stdout",
          "output_type": "stream",
          "text": [
            "Gloss : 22435.87370300293, Dloss : 24.734398401036742\n",
            "GMSE : 0.010922095755202955, DMSE : 0.014018043799338605\n"
          ]
        },
        {
          "name": "stderr",
          "output_type": "stream",
          "text": [
            "Training.... 17: 100%|██████████| 450/450 [01:47<00:00,  4.20it/s]\n"
          ]
        },
        {
          "name": "stdout",
          "output_type": "stream",
          "text": [
            "Gloss : 22271.499062538147, Dloss : 1.578159138050978\n",
            "GMSE : 0.00022675478330392936, DMSE : 0.0003753059214517966\n"
          ]
        },
        {
          "name": "stderr",
          "output_type": "stream",
          "text": [
            "Training.... 18: 100%|██████████| 450/450 [01:47<00:00,  4.17it/s]\n"
          ]
        },
        {
          "name": "stdout",
          "output_type": "stream",
          "text": [
            "Gloss : 22617.80430984497, Dloss : 12.888327288499568\n",
            "GMSE : 0.007201123876843396, DMSE : 0.005852565794424485\n"
          ]
        },
        {
          "name": "stderr",
          "output_type": "stream",
          "text": [
            "Training.... 19: 100%|██████████| 450/450 [01:47<00:00,  4.18it/s]\n"
          ]
        },
        {
          "name": "stdout",
          "output_type": "stream",
          "text": [
            "Gloss : 22326.163385391235, Dloss : 1.1705168026455794\n",
            "GMSE : 0.00014477850371538096, DMSE : 0.00018822348812477766\n"
          ]
        },
        {
          "name": "stderr",
          "output_type": "stream",
          "text": [
            "\u001b[32m[I 2021-11-14 08:16:03,763]\u001b[0m Trial 1 finished with value: 0.0003330019918401586 and parameters: {'lmd': 165.046062725104}. Best is trial 1 with value: 0.0003330019918401586.\u001b[0m\n",
            "Training.... 0: 100%|██████████| 450/450 [01:47<00:00,  4.18it/s]\n"
          ]
        },
        {
          "name": "stdout",
          "output_type": "stream",
          "text": [
            "Gloss : 42655.50447463989, Dloss : 18.756996417516348\n",
            "GMSE : 0.011309265440929974, DMSE : 0.010577059493920639\n"
          ]
        },
        {
          "name": "stderr",
          "output_type": "stream",
          "text": [
            "Training.... 1: 100%|██████████| 450/450 [01:49<00:00,  4.12it/s]\n"
          ]
        },
        {
          "name": "stdout",
          "output_type": "stream",
          "text": [
            "Gloss : 42101.35732269287, Dloss : 1.7371858866899856\n",
            "GMSE : 0.0005999125499214653, DMSE : 0.0006441373270994667\n"
          ]
        },
        {
          "name": "stderr",
          "output_type": "stream",
          "text": [
            "Training.... 2: 100%|██████████| 450/450 [01:47<00:00,  4.17it/s]\n"
          ]
        },
        {
          "name": "stdout",
          "output_type": "stream",
          "text": [
            "Gloss : 41693.746713638306, Dloss : 17.08819591833526\n",
            "GMSE : 0.007809782304393824, DMSE : 0.009425370278130937\n"
          ]
        },
        {
          "name": "stderr",
          "output_type": "stream",
          "text": [
            "Training.... 3: 100%|██████████| 450/450 [01:48<00:00,  4.15it/s]\n"
          ]
        },
        {
          "name": "stdout",
          "output_type": "stream",
          "text": [
            "Gloss : 42021.758977890015, Dloss : 11.851066688399442\n",
            "GMSE : 0.007884566219912596, DMSE : 0.006539554146010157\n"
          ]
        },
        {
          "name": "stderr",
          "output_type": "stream",
          "text": [
            "Training.... 4: 100%|██████████| 450/450 [01:48<00:00,  4.15it/s]\n"
          ]
        },
        {
          "name": "stdout",
          "output_type": "stream",
          "text": [
            "Gloss : 40080.92156600952, Dloss : 1.0316596303819097\n",
            "GMSE : 0.00019546075314948717, DMSE : 0.0003101098024604058\n"
          ]
        },
        {
          "name": "stderr",
          "output_type": "stream",
          "text": [
            "Training.... 5: 100%|██████████| 450/450 [01:48<00:00,  4.14it/s]\n"
          ]
        },
        {
          "name": "stdout",
          "output_type": "stream",
          "text": [
            "Gloss : 40651.38228607178, Dloss : 0.6667831681043026\n",
            "GMSE : 5.308492765508832e-05, DMSE : 0.00023368271256357062\n"
          ]
        },
        {
          "name": "stderr",
          "output_type": "stream",
          "text": [
            "Training.... 6: 100%|██████████| 450/450 [01:47<00:00,  4.17it/s]\n"
          ]
        },
        {
          "name": "stdout",
          "output_type": "stream",
          "text": [
            "Gloss : 40582.40872192383, Dloss : 0.2624620178303303\n",
            "GMSE : 1.0285358564559726e-05, DMSE : 2.2115673622162788e-05\n"
          ]
        },
        {
          "name": "stderr",
          "output_type": "stream",
          "text": [
            "Training.... 7: 100%|██████████| 450/450 [01:48<00:00,  4.14it/s]\n"
          ]
        },
        {
          "name": "stdout",
          "output_type": "stream",
          "text": [
            "Gloss : 40021.7533531189, Dloss : 0.43904733672934526\n",
            "GMSE : 3.841254857603972e-05, DMSE : 0.00012598988641614187\n"
          ]
        },
        {
          "name": "stderr",
          "output_type": "stream",
          "text": [
            "Training.... 8: 100%|██████████| 450/450 [01:47<00:00,  4.17it/s]\n"
          ]
        },
        {
          "name": "stdout",
          "output_type": "stream",
          "text": [
            "Gloss : 39401.34804725647, Dloss : 0.27073434438261756\n",
            "GMSE : 1.3670321111326576e-05, DMSE : 4.95285181883574e-05\n"
          ]
        },
        {
          "name": "stderr",
          "output_type": "stream",
          "text": [
            "Training.... 9: 100%|██████████| 450/450 [01:48<00:00,  4.16it/s]\n"
          ]
        },
        {
          "name": "stdout",
          "output_type": "stream",
          "text": [
            "Gloss : 38782.226501464844, Dloss : 0.10128142102985294\n",
            "GMSE : 2.127542262089954e-06, DMSE : 4.1022785546547815e-06\n"
          ]
        },
        {
          "name": "stderr",
          "output_type": "stream",
          "text": [
            "Training.... 10: 100%|██████████| 450/450 [01:48<00:00,  4.16it/s]\n"
          ]
        },
        {
          "name": "stdout",
          "output_type": "stream",
          "text": [
            "Gloss : 39505.881843566895, Dloss : 0.10104747736750141\n",
            "GMSE : 3.1212453694859365e-06, DMSE : 9.100617857304174e-06\n"
          ]
        },
        {
          "name": "stderr",
          "output_type": "stream",
          "text": [
            "Training.... 11: 100%|██████████| 450/450 [01:49<00:00,  4.12it/s]\n"
          ]
        },
        {
          "name": "stdout",
          "output_type": "stream",
          "text": [
            "Gloss : 39036.15503120422, Dloss : 0.06922234992862286\n",
            "GMSE : 6.418617416460007e-07, DMSE : 1.674250665318178e-06\n"
          ]
        },
        {
          "name": "stderr",
          "output_type": "stream",
          "text": [
            "Training.... 12: 100%|██████████| 450/450 [01:48<00:00,  4.14it/s]\n"
          ]
        },
        {
          "name": "stdout",
          "output_type": "stream",
          "text": [
            "Gloss : 38166.05166053772, Dloss : 0.08603370108176023\n",
            "GMSE : 1.2789411823529354e-06, DMSE : 3.5275709054605027e-06\n"
          ]
        },
        {
          "name": "stderr",
          "output_type": "stream",
          "text": [
            "Training.... 13: 100%|██████████| 450/450 [01:48<00:00,  4.16it/s]\n"
          ]
        },
        {
          "name": "stdout",
          "output_type": "stream",
          "text": [
            "Gloss : 38644.99488449097, Dloss : 0.08121153226420574\n",
            "GMSE : 1.1483673475128923e-06, DMSE : 5.088237520315609e-06\n"
          ]
        },
        {
          "name": "stderr",
          "output_type": "stream",
          "text": [
            "Training.... 14: 100%|██████████| 450/450 [01:47<00:00,  4.18it/s]\n"
          ]
        },
        {
          "name": "stdout",
          "output_type": "stream",
          "text": [
            "Gloss : 36399.33747673035, Dloss : 113.08785115380351\n",
            "GMSE : 0.056224050936437016, DMSE : 0.06039837914675914\n"
          ]
        },
        {
          "name": "stderr",
          "output_type": "stream",
          "text": [
            "Training.... 15: 100%|██████████| 450/450 [01:47<00:00,  4.20it/s]\n"
          ]
        },
        {
          "name": "stdout",
          "output_type": "stream",
          "text": [
            "Gloss : 34780.4336605072, Dloss : 21.27670741864131\n",
            "GMSE : 0.012687791014278705, DMSE : 0.011567607704994484\n"
          ]
        },
        {
          "name": "stderr",
          "output_type": "stream",
          "text": [
            "Training.... 16: 100%|██████████| 450/450 [01:48<00:00,  4.16it/s]\n"
          ]
        },
        {
          "name": "stdout",
          "output_type": "stream",
          "text": [
            "Gloss : 34420.628995895386, Dloss : 3.7453358447965\n",
            "GMSE : 0.0010288710049405237, DMSE : 0.0019162805542471744\n"
          ]
        },
        {
          "name": "stderr",
          "output_type": "stream",
          "text": [
            "Training.... 17: 100%|██████████| 450/450 [01:47<00:00,  4.17it/s]\n"
          ]
        },
        {
          "name": "stdout",
          "output_type": "stream",
          "text": [
            "Gloss : 34542.943519592285, Dloss : 12.698527447566448\n",
            "GMSE : 0.008187938980023186, DMSE : 0.0068973587043178065\n"
          ]
        },
        {
          "name": "stderr",
          "output_type": "stream",
          "text": [
            "Training.... 18: 100%|██████████| 450/450 [01:47<00:00,  4.17it/s]\n"
          ]
        },
        {
          "name": "stdout",
          "output_type": "stream",
          "text": [
            "Gloss : 34933.96920013428, Dloss : 1.5207382594817318\n",
            "GMSE : 0.0002902402567763724, DMSE : 0.0005388506913562055\n"
          ]
        },
        {
          "name": "stderr",
          "output_type": "stream",
          "text": [
            "Training.... 19: 100%|██████████| 450/450 [01:47<00:00,  4.20it/s]\n",
            "\u001b[32m[I 2021-11-14 08:57:45,043]\u001b[0m Trial 2 finished with value: 0.027974387096952658 and parameters: {'lmd': 346.14558351142256}. Best is trial 1 with value: 0.0003330019918401586.\u001b[0m\n"
          ]
        },
        {
          "name": "stdout",
          "output_type": "stream",
          "text": [
            "Gloss : 33825.88544845581, Dloss : 24.409995565583813\n",
            "GMSE : 0.014538692752499935, DMSE : 0.013435694344452721\n"
          ]
        },
        {
          "name": "stderr",
          "output_type": "stream",
          "text": [
            "Training.... 0: 100%|██████████| 450/450 [01:48<00:00,  4.13it/s]\n"
          ]
        },
        {
          "name": "stdout",
          "output_type": "stream",
          "text": [
            "Gloss : 38269.40627479553, Dloss : 6.4021281524328515\n",
            "GMSE : 0.002979925837758794, DMSE : 0.004247299631634173\n"
          ]
        },
        {
          "name": "stderr",
          "output_type": "stream",
          "text": [
            "Training.... 1: 100%|██████████| 450/450 [01:48<00:00,  4.15it/s]\n"
          ]
        },
        {
          "name": "stdout",
          "output_type": "stream",
          "text": [
            "Gloss : 38400.18098831177, Dloss : 0.48445945218918496\n",
            "GMSE : 4.974687213699278e-05, DMSE : 8.346472850057096e-05\n"
          ]
        },
        {
          "name": "stderr",
          "output_type": "stream",
          "text": [
            "Training.... 2: 100%|██████████| 450/450 [01:49<00:00,  4.12it/s]\n"
          ]
        },
        {
          "name": "stdout",
          "output_type": "stream",
          "text": [
            "Gloss : 37799.34719657898, Dloss : 0.2194828593856073\n",
            "GMSE : 5.730564765544689e-06, DMSE : 1.8314919994071014e-05\n"
          ]
        },
        {
          "name": "stderr",
          "output_type": "stream",
          "text": [
            "Training.... 3: 100%|██████████| 450/450 [01:47<00:00,  4.20it/s]\n"
          ]
        },
        {
          "name": "stdout",
          "output_type": "stream",
          "text": [
            "Gloss : 35225.996574401855, Dloss : 51.44414710576166\n",
            "GMSE : 0.026130764361193586, DMSE : 0.02657323205934856\n"
          ]
        },
        {
          "name": "stderr",
          "output_type": "stream",
          "text": [
            "Training.... 4: 100%|██████████| 450/450 [01:48<00:00,  4.15it/s]\n"
          ]
        },
        {
          "name": "stdout",
          "output_type": "stream",
          "text": [
            "Gloss : 35497.43130493164, Dloss : 3.1142422764969524\n",
            "GMSE : 0.001217848452646518, DMSE : 0.001529371896260069\n"
          ]
        },
        {
          "name": "stderr",
          "output_type": "stream",
          "text": [
            "Training.... 5: 100%|██████████| 450/450 [01:48<00:00,  4.14it/s]\n"
          ]
        },
        {
          "name": "stdout",
          "output_type": "stream",
          "text": [
            "Gloss : 35168.712799072266, Dloss : 1.2696828594052931\n",
            "GMSE : 0.00022210474693240087, DMSE : 0.00044621771411802323\n"
          ]
        },
        {
          "name": "stderr",
          "output_type": "stream",
          "text": [
            "Training.... 6: 100%|██████████| 450/450 [01:47<00:00,  4.18it/s]\n"
          ]
        },
        {
          "name": "stdout",
          "output_type": "stream",
          "text": [
            "Gloss : 34555.62360572815, Dloss : 0.5906300179194659\n",
            "GMSE : 6.45345593940031e-05, DMSE : 0.00014438919625251834\n"
          ]
        },
        {
          "name": "stderr",
          "output_type": "stream",
          "text": [
            "Training.... 7: 100%|██████████| 450/450 [01:47<00:00,  4.18it/s]\n"
          ]
        },
        {
          "name": "stdout",
          "output_type": "stream",
          "text": [
            "Gloss : 34100.97027206421, Dloss : 14.833322311551456\n",
            "GMSE : 0.008426007920485376, DMSE : 0.00705233485200742\n"
          ]
        },
        {
          "name": "stderr",
          "output_type": "stream",
          "text": [
            "Training.... 8: 100%|██████████| 450/450 [01:46<00:00,  4.22it/s]\n"
          ]
        },
        {
          "name": "stdout",
          "output_type": "stream",
          "text": [
            "Gloss : 34625.98246002197, Dloss : 1.1126273482732358\n",
            "GMSE : 0.0002512891947589255, DMSE : 0.0004760002477014311\n"
          ]
        },
        {
          "name": "stderr",
          "output_type": "stream",
          "text": [
            "Training.... 9: 100%|██████████| 450/450 [01:47<00:00,  4.17it/s]\n"
          ]
        },
        {
          "name": "stdout",
          "output_type": "stream",
          "text": [
            "Gloss : 33511.04028129578, Dloss : 18.074634125434386\n",
            "GMSE : 0.009663187511420857, DMSE : 0.007447795546932409\n"
          ]
        },
        {
          "name": "stderr",
          "output_type": "stream",
          "text": [
            "Training.... 10: 100%|██████████| 450/450 [01:47<00:00,  4.17it/s]\n"
          ]
        },
        {
          "name": "stdout",
          "output_type": "stream",
          "text": [
            "Gloss : 32738.41696548462, Dloss : 16.603983355904347\n",
            "GMSE : 0.009284477107697782, DMSE : 0.01095411893621472\n"
          ]
        },
        {
          "name": "stderr",
          "output_type": "stream",
          "text": [
            "Training.... 11: 100%|██████████| 450/450 [01:47<00:00,  4.19it/s]\n"
          ]
        },
        {
          "name": "stdout",
          "output_type": "stream",
          "text": [
            "Gloss : 32325.41781425476, Dloss : 0.7521839639521204\n",
            "GMSE : 0.00015993536444229244, DMSE : 0.00011194242007064201\n"
          ]
        },
        {
          "name": "stderr",
          "output_type": "stream",
          "text": [
            "Training.... 12: 100%|██████████| 450/450 [01:46<00:00,  4.21it/s]\n"
          ]
        },
        {
          "name": "stdout",
          "output_type": "stream",
          "text": [
            "Gloss : 32561.599157333374, Dloss : 0.5259641691118304\n",
            "GMSE : 5.78918947273161e-05, DMSE : 5.6449606914362064e-05\n"
          ]
        },
        {
          "name": "stderr",
          "output_type": "stream",
          "text": [
            "Training.... 13: 100%|██████████| 450/450 [01:48<00:00,  4.13it/s]\n"
          ]
        },
        {
          "name": "stdout",
          "output_type": "stream",
          "text": [
            "Gloss : 31958.502126693726, Dloss : 0.3962116871298349\n",
            "GMSE : 1.913769807587071e-05, DMSE : 0.00013721988783400375\n"
          ]
        },
        {
          "name": "stderr",
          "output_type": "stream",
          "text": [
            "Training.... 14: 100%|██████████| 450/450 [01:47<00:00,  4.18it/s]\n"
          ]
        },
        {
          "name": "stdout",
          "output_type": "stream",
          "text": [
            "Gloss : 31706.438608169556, Dloss : 0.32608835312203155\n",
            "GMSE : 3.2486154331495195e-05, DMSE : 6.258287135286014e-05\n"
          ]
        },
        {
          "name": "stderr",
          "output_type": "stream",
          "text": [
            "Training.... 15: 100%|██████████| 450/450 [01:47<00:00,  4.18it/s]\n"
          ]
        },
        {
          "name": "stdout",
          "output_type": "stream",
          "text": [
            "Gloss : 30600.051414489746, Dloss : 36.435998887849564\n",
            "GMSE : 0.016937294448927682, DMSE : 0.020594905687203343\n"
          ]
        },
        {
          "name": "stderr",
          "output_type": "stream",
          "text": [
            "Training.... 16: 100%|██████████| 450/450 [01:48<00:00,  4.16it/s]\n"
          ]
        },
        {
          "name": "stdout",
          "output_type": "stream",
          "text": [
            "Gloss : 31128.861053466797, Dloss : 2.3595428354819887\n",
            "GMSE : 0.0008561491949873501, DMSE : 0.0009844690972900284\n"
          ]
        },
        {
          "name": "stderr",
          "output_type": "stream",
          "text": [
            "Training.... 17: 100%|██████████| 450/450 [01:47<00:00,  4.19it/s]\n"
          ]
        },
        {
          "name": "stdout",
          "output_type": "stream",
          "text": [
            "Gloss : 30591.101009368896, Dloss : 0.8986685061718163\n",
            "GMSE : 8.30283832993091e-05, DMSE : 0.00022729142290339017\n"
          ]
        },
        {
          "name": "stderr",
          "output_type": "stream",
          "text": [
            "Training.... 18: 100%|██████████| 450/450 [01:47<00:00,  4.17it/s]\n"
          ]
        },
        {
          "name": "stdout",
          "output_type": "stream",
          "text": [
            "Gloss : 29713.19913673401, Dloss : 14.903106314390243\n",
            "GMSE : 0.00877865879936449, DMSE : 0.009104564385647072\n"
          ]
        },
        {
          "name": "stderr",
          "output_type": "stream",
          "text": [
            "Training.... 19: 100%|██████████| 450/450 [01:46<00:00,  4.21it/s]\n",
            "\u001b[32m[I 2021-11-14 09:39:17,881]\u001b[0m Trial 3 finished with value: 0.001399576615840446 and parameters: {'lmd': 388.6219647882648}. Best is trial 1 with value: 0.0003330019918401586.\u001b[0m\n"
          ]
        },
        {
          "name": "stdout",
          "output_type": "stream",
          "text": [
            "Gloss : 30263.117441177368, Dloss : 1.6832648567178694\n",
            "GMSE : 0.00046652561454402827, DMSE : 0.0009330510012964178\n"
          ]
        },
        {
          "name": "stderr",
          "output_type": "stream",
          "text": [
            "Training.... 0: 100%|██████████| 450/450 [01:47<00:00,  4.19it/s]\n"
          ]
        },
        {
          "name": "stdout",
          "output_type": "stream",
          "text": [
            "Gloss : 28615.511421203613, Dloss : 2.72289493757944\n",
            "GMSE : 0.0015731589612614223, DMSE : 0.0014973423643859912\n"
          ]
        },
        {
          "name": "stderr",
          "output_type": "stream",
          "text": [
            "Training.... 1: 100%|██████████| 450/450 [01:47<00:00,  4.19it/s]\n"
          ]
        },
        {
          "name": "stdout",
          "output_type": "stream",
          "text": [
            "Gloss : 27649.556184768677, Dloss : 16.924529577012436\n",
            "GMSE : 0.008365642645833619, DMSE : 0.01114607755404013\n"
          ]
        },
        {
          "name": "stderr",
          "output_type": "stream",
          "text": [
            "Training.... 2: 100%|██████████| 450/450 [01:46<00:00,  4.22it/s]\n"
          ]
        },
        {
          "name": "stdout",
          "output_type": "stream",
          "text": [
            "Gloss : 27707.160676956177, Dloss : 0.4359611236213823\n",
            "GMSE : 2.3884662762322085e-05, DMSE : 7.093608021004455e-05\n"
          ]
        },
        {
          "name": "stderr",
          "output_type": "stream",
          "text": [
            "Training.... 3: 100%|██████████| 450/450 [01:48<00:00,  4.15it/s]\n"
          ]
        },
        {
          "name": "stdout",
          "output_type": "stream",
          "text": [
            "Gloss : 27393.963075637817, Dloss : 0.293907199640671\n",
            "GMSE : 2.2764167898242873e-05, DMSE : 4.1939546818716595e-05\n"
          ]
        },
        {
          "name": "stderr",
          "output_type": "stream",
          "text": [
            "Training.... 4: 100%|██████████| 450/450 [01:46<00:00,  4.21it/s]\n"
          ]
        },
        {
          "name": "stdout",
          "output_type": "stream",
          "text": [
            "Gloss : 27004.15027809143, Dloss : 0.35409767953933624\n",
            "GMSE : 3.9066692272583464e-05, DMSE : 0.00016704448518244856\n"
          ]
        },
        {
          "name": "stderr",
          "output_type": "stream",
          "text": [
            "Training.... 5: 100%|██████████| 450/450 [01:46<00:00,  4.21it/s]\n"
          ]
        },
        {
          "name": "stdout",
          "output_type": "stream",
          "text": [
            "Gloss : 27114.8438911438, Dloss : 0.1519176687252184\n",
            "GMSE : 5.347529097385357e-06, DMSE : 2.760737882170908e-05\n"
          ]
        },
        {
          "name": "stderr",
          "output_type": "stream",
          "text": [
            "Training.... 6: 100%|██████████| 450/450 [01:47<00:00,  4.19it/s]\n"
          ]
        },
        {
          "name": "stdout",
          "output_type": "stream",
          "text": [
            "Gloss : 26494.407258987427, Dloss : 0.18290456507475028\n",
            "GMSE : 6.3855647090576805e-06, DMSE : 4.4307324835082506e-05\n"
          ]
        },
        {
          "name": "stderr",
          "output_type": "stream",
          "text": [
            "Training.... 7: 100%|██████████| 450/450 [01:47<00:00,  4.17it/s]\n"
          ]
        },
        {
          "name": "stdout",
          "output_type": "stream",
          "text": [
            "Gloss : 26056.365774154663, Dloss : 0.15853093097302917\n",
            "GMSE : 7.611995511460879e-06, DMSE : 1.2783661398057873e-05\n"
          ]
        },
        {
          "name": "stderr",
          "output_type": "stream",
          "text": [
            "Training.... 8: 100%|██████████| 450/450 [01:47<00:00,  4.18it/s]\n"
          ]
        },
        {
          "name": "stdout",
          "output_type": "stream",
          "text": [
            "Gloss : 25011.87176132202, Dloss : 106.02849444484536\n",
            "GMSE : 0.04554565828955666, DMSE : 0.05395296533717073\n"
          ]
        },
        {
          "name": "stderr",
          "output_type": "stream",
          "text": [
            "Training.... 9: 100%|██████████| 450/450 [01:47<00:00,  4.17it/s]\n"
          ]
        },
        {
          "name": "stdout",
          "output_type": "stream",
          "text": [
            "Gloss : 23960.94532775879, Dloss : 13.00315489168861\n",
            "GMSE : 0.007138310739038466, DMSE : 0.00824040592516898\n"
          ]
        },
        {
          "name": "stderr",
          "output_type": "stream",
          "text": [
            "Training.... 10: 100%|██████████| 450/450 [01:47<00:00,  4.20it/s]\n"
          ]
        },
        {
          "name": "stdout",
          "output_type": "stream",
          "text": [
            "Gloss : 23926.907802581787, Dloss : 7.580830961320316\n",
            "GMSE : 0.0038035564008194866, DMSE : 0.005105251845068573\n"
          ]
        },
        {
          "name": "stderr",
          "output_type": "stream",
          "text": [
            "Training.... 11: 100%|██████████| 450/450 [01:46<00:00,  4.21it/s]\n"
          ]
        },
        {
          "name": "stdout",
          "output_type": "stream",
          "text": [
            "Gloss : 23943.90725326538, Dloss : 0.7859493515643408\n",
            "GMSE : 5.5415812909608826e-05, DMSE : 0.00018299854165676138\n"
          ]
        },
        {
          "name": "stderr",
          "output_type": "stream",
          "text": [
            "Training.... 12: 100%|██████████| 450/450 [01:48<00:00,  4.15it/s]\n"
          ]
        },
        {
          "name": "stdout",
          "output_type": "stream",
          "text": [
            "Gloss : 24094.86836051941, Dloss : 1.0502366567816352\n",
            "GMSE : 0.00017015936289517468, DMSE : 0.0004333023668151053\n"
          ]
        },
        {
          "name": "stderr",
          "output_type": "stream",
          "text": [
            "Training.... 13: 100%|██████████| 450/450 [01:47<00:00,  4.17it/s]\n"
          ]
        },
        {
          "name": "stdout",
          "output_type": "stream",
          "text": [
            "Gloss : 23809.346601486206, Dloss : 0.4647925532244699\n",
            "GMSE : 4.8228818624813404e-05, DMSE : 5.3659874337469574e-05\n"
          ]
        },
        {
          "name": "stderr",
          "output_type": "stream",
          "text": [
            "Training.... 14: 100%|██████████| 450/450 [01:47<00:00,  4.17it/s]\n"
          ]
        },
        {
          "name": "stdout",
          "output_type": "stream",
          "text": [
            "Gloss : 23284.734197616577, Dloss : 0.33911166192592646\n",
            "GMSE : 2.6983934878923074e-05, DMSE : 2.3433315054730735e-05\n"
          ]
        },
        {
          "name": "stderr",
          "output_type": "stream",
          "text": [
            "Training.... 15: 100%|██████████| 450/450 [01:47<00:00,  4.18it/s]\n"
          ]
        },
        {
          "name": "stdout",
          "output_type": "stream",
          "text": [
            "Gloss : 23600.171146392822, Dloss : 0.2056630749211763\n",
            "GMSE : 4.973222297533381e-06, DMSE : 2.7600093950415742e-05\n"
          ]
        },
        {
          "name": "stderr",
          "output_type": "stream",
          "text": [
            "Training.... 16: 100%|██████████| 450/450 [01:48<00:00,  4.16it/s]\n"
          ]
        },
        {
          "name": "stdout",
          "output_type": "stream",
          "text": [
            "Gloss : 22940.96953201294, Dloss : 0.2127555707720603\n",
            "GMSE : 8.171723702836667e-06, DMSE : 2.5565285198289298e-05\n"
          ]
        },
        {
          "name": "stderr",
          "output_type": "stream",
          "text": [
            "Training.... 17: 100%|██████████| 450/450 [01:47<00:00,  4.18it/s]\n"
          ]
        },
        {
          "name": "stdout",
          "output_type": "stream",
          "text": [
            "Gloss : 22250.811153411865, Dloss : 25.911886664176563\n",
            "GMSE : 0.01404332055981141, DMSE : 0.01305906934398075\n"
          ]
        },
        {
          "name": "stderr",
          "output_type": "stream",
          "text": [
            "Training.... 18: 100%|██████████| 450/450 [01:48<00:00,  4.14it/s]\n"
          ]
        },
        {
          "name": "stdout",
          "output_type": "stream",
          "text": [
            "Gloss : 22397.525497436523, Dloss : 3.247934887869633\n",
            "GMSE : 0.0011943845004177102, DMSE : 0.0025153711069611246\n"
          ]
        },
        {
          "name": "stderr",
          "output_type": "stream",
          "text": [
            "Training.... 19: 100%|██████████| 450/450 [01:47<00:00,  4.18it/s]\n",
            "\u001b[32m[I 2021-11-14 10:20:43,770]\u001b[0m Trial 4 finished with value: 0.0007297807087664644 and parameters: {'lmd': 364.3027036259928}. Best is trial 1 with value: 0.0003330019918401586.\u001b[0m\n"
          ]
        },
        {
          "name": "stdout",
          "output_type": "stream",
          "text": [
            "Gloss : 21998.66396713257, Dloss : 0.7236706885050808\n",
            "GMSE : 0.00023770274105745968, DMSE : 0.0004920779677090048\n"
          ]
        },
        {
          "name": "stderr",
          "output_type": "stream",
          "text": [
            "Training.... 0: 100%|██████████| 450/450 [01:47<00:00,  4.19it/s]\n"
          ]
        },
        {
          "name": "stdout",
          "output_type": "stream",
          "text": [
            "Gloss : 9107.440444946289, Dloss : 0.4255461830898639\n",
            "GMSE : 0.00010719404377410454, DMSE : 0.00029736597246131163\n"
          ]
        },
        {
          "name": "stderr",
          "output_type": "stream",
          "text": [
            "Training.... 1: 100%|██████████| 450/450 [01:48<00:00,  4.14it/s]\n"
          ]
        },
        {
          "name": "stdout",
          "output_type": "stream",
          "text": [
            "Gloss : 9463.763999938965, Dloss : 11.973989893327143\n",
            "GMSE : 0.006626884260119815, DMSE : 0.0054571215331969255\n"
          ]
        },
        {
          "name": "stderr",
          "output_type": "stream",
          "text": [
            "Training.... 2: 100%|██████████| 450/450 [01:47<00:00,  4.17it/s]\n"
          ]
        },
        {
          "name": "stdout",
          "output_type": "stream",
          "text": [
            "Gloss : 9084.642135620117, Dloss : 0.1732733574735903\n",
            "GMSE : 1.3837134385935854e-05, DMSE : 6.387500454002636e-05\n"
          ]
        },
        {
          "name": "stderr",
          "output_type": "stream",
          "text": [
            "Training.... 3: 100%|██████████| 450/450 [01:47<00:00,  4.19it/s]\n"
          ]
        },
        {
          "name": "stdout",
          "output_type": "stream",
          "text": [
            "Gloss : 9138.152605056763, Dloss : 0.06352484827766602\n",
            "GMSE : 8.841356582043183e-07, DMSE : 5.946799440065779e-06\n"
          ]
        },
        {
          "name": "stderr",
          "output_type": "stream",
          "text": [
            "Training.... 4: 100%|██████████| 450/450 [01:46<00:00,  4.21it/s]\n"
          ]
        },
        {
          "name": "stdout",
          "output_type": "stream",
          "text": [
            "Gloss : 8676.40786933899, Dloss : 6.710134621941052\n",
            "GMSE : 0.003362564824654842, DMSE : 0.003540410818474493\n"
          ]
        },
        {
          "name": "stderr",
          "output_type": "stream",
          "text": [
            "Training.... 5: 100%|██████████| 450/450 [01:48<00:00,  4.15it/s]\n"
          ]
        },
        {
          "name": "stdout",
          "output_type": "stream",
          "text": [
            "Gloss : 8908.70304107666, Dloss : 7.134398281513313\n",
            "GMSE : 0.0032428440102657114, DMSE : 0.005038540360750038\n"
          ]
        },
        {
          "name": "stderr",
          "output_type": "stream",
          "text": [
            "Training.... 6: 100%|██████████| 450/450 [01:47<00:00,  4.17it/s]\n"
          ]
        },
        {
          "name": "stdout",
          "output_type": "stream",
          "text": [
            "Gloss : 8288.564299583435, Dloss : 0.5025822764728218\n",
            "GMSE : 4.6683631135093494e-05, DMSE : 0.000377095152186617\n"
          ]
        },
        {
          "name": "stderr",
          "output_type": "stream",
          "text": [
            "Training.... 7: 100%|██████████| 450/450 [01:47<00:00,  4.18it/s]\n"
          ]
        },
        {
          "name": "stdout",
          "output_type": "stream",
          "text": [
            "Gloss : 8234.333627700806, Dloss : 0.08083303779221751\n",
            "GMSE : 2.072198978492669e-06, DMSE : 2.5199332091581896e-06\n"
          ]
        },
        {
          "name": "stderr",
          "output_type": "stream",
          "text": [
            "Training.... 8: 100%|██████████| 450/450 [01:48<00:00,  4.14it/s]\n"
          ]
        },
        {
          "name": "stdout",
          "output_type": "stream",
          "text": [
            "Gloss : 8507.993335723877, Dloss : 15.57643959298548\n",
            "GMSE : 0.00720674620551731, DMSE : 0.007670623197774448\n"
          ]
        },
        {
          "name": "stderr",
          "output_type": "stream",
          "text": [
            "Training.... 9: 100%|██████████| 450/450 [01:47<00:00,  4.18it/s]\n"
          ]
        },
        {
          "name": "stdout",
          "output_type": "stream",
          "text": [
            "Gloss : 8996.207350730896, Dloss : 0.5547894000010274\n",
            "GMSE : 4.1461871880577726e-05, DMSE : 0.00019634473438892322\n"
          ]
        },
        {
          "name": "stderr",
          "output_type": "stream",
          "text": [
            "Training.... 10: 100%|██████████| 450/450 [01:48<00:00,  4.15it/s]\n"
          ]
        },
        {
          "name": "stdout",
          "output_type": "stream",
          "text": [
            "Gloss : 9788.74695777893, Dloss : 1.5780696297097165\n",
            "GMSE : 0.000680737582790438, DMSE : 0.0006304016325881338\n"
          ]
        },
        {
          "name": "stderr",
          "output_type": "stream",
          "text": [
            "Training.... 11: 100%|██████████| 450/450 [01:47<00:00,  4.17it/s]\n"
          ]
        },
        {
          "name": "stdout",
          "output_type": "stream",
          "text": [
            "Gloss : 9418.845331192017, Dloss : 0.8149124211913659\n",
            "GMSE : 0.00012934736645872223, DMSE : 0.0003023727411318564\n"
          ]
        },
        {
          "name": "stderr",
          "output_type": "stream",
          "text": [
            "Training.... 12: 100%|██████████| 450/450 [01:47<00:00,  4.17it/s]\n"
          ]
        },
        {
          "name": "stdout",
          "output_type": "stream",
          "text": [
            "Gloss : 9023.007995605469, Dloss : 20.318524091988365\n",
            "GMSE : 0.009826179214214671, DMSE : 0.010207767329106601\n"
          ]
        },
        {
          "name": "stderr",
          "output_type": "stream",
          "text": [
            "Training.... 13: 100%|██████████| 450/450 [01:48<00:00,  4.16it/s]\n"
          ]
        },
        {
          "name": "stdout",
          "output_type": "stream",
          "text": [
            "Gloss : 9051.700497627258, Dloss : 9.233931774870143\n",
            "GMSE : 0.004924085565587344, DMSE : 0.00567450975550516\n"
          ]
        },
        {
          "name": "stderr",
          "output_type": "stream",
          "text": [
            "Training.... 14: 100%|██████████| 450/450 [01:47<00:00,  4.17it/s]\n"
          ]
        },
        {
          "name": "stdout",
          "output_type": "stream",
          "text": [
            "Gloss : 8612.94517993927, Dloss : 1.2439178339718637\n",
            "GMSE : 0.00023295836562767385, DMSE : 0.0009294409416519837\n"
          ]
        },
        {
          "name": "stderr",
          "output_type": "stream",
          "text": [
            "Training.... 15: 100%|██████████| 450/450 [01:48<00:00,  4.15it/s]\n"
          ]
        },
        {
          "name": "stdout",
          "output_type": "stream",
          "text": [
            "Gloss : 8141.769309997559, Dloss : 0.39146529090066906\n",
            "GMSE : 3.608996883096104e-05, DMSE : 0.00023358045624517315\n"
          ]
        },
        {
          "name": "stderr",
          "output_type": "stream",
          "text": [
            "Training.... 16: 100%|██████████| 450/450 [01:47<00:00,  4.18it/s]\n"
          ]
        },
        {
          "name": "stdout",
          "output_type": "stream",
          "text": [
            "Gloss : 8201.573428153992, Dloss : 11.64203679869479\n",
            "GMSE : 0.005265403453769296, DMSE : 0.004761515175929263\n"
          ]
        },
        {
          "name": "stderr",
          "output_type": "stream",
          "text": [
            "Training.... 17: 100%|██████████| 450/450 [01:47<00:00,  4.18it/s]\n"
          ]
        },
        {
          "name": "stdout",
          "output_type": "stream",
          "text": [
            "Gloss : 7526.30948638916, Dloss : 2.715719049321706\n",
            "GMSE : 0.001461017642044111, DMSE : 0.0016899898146650564\n"
          ]
        },
        {
          "name": "stderr",
          "output_type": "stream",
          "text": [
            "Training.... 18: 100%|██████████| 450/450 [01:47<00:00,  4.18it/s]\n"
          ]
        },
        {
          "name": "stdout",
          "output_type": "stream",
          "text": [
            "Gloss : 7737.588672637939, Dloss : 8.652901455160645\n",
            "GMSE : 0.005241286947233125, DMSE : 0.005117321113452434\n"
          ]
        },
        {
          "name": "stderr",
          "output_type": "stream",
          "text": [
            "Training.... 19: 100%|██████████| 450/450 [01:48<00:00,  4.15it/s]\n",
            "\u001b[32m[I 2021-11-14 11:02:16,685]\u001b[0m Trial 5 finished with value: 0.008793197283074213 and parameters: {'lmd': 76.44316261226862}. Best is trial 1 with value: 0.0003330019918401586.\u001b[0m\n"
          ]
        },
        {
          "name": "stdout",
          "output_type": "stream",
          "text": [
            "Gloss : 7700.861386299133, Dloss : 7.281243083266418\n",
            "GMSE : 0.004547734934663127, DMSE : 0.004245462348411087\n"
          ]
        },
        {
          "name": "stderr",
          "output_type": "stream",
          "text": [
            "Training.... 0: 100%|██████████| 450/450 [01:48<00:00,  4.14it/s]\n"
          ]
        },
        {
          "name": "stdout",
          "output_type": "stream",
          "text": [
            "Gloss : 8863.664686203003, Dloss : 9.52648340345877\n",
            "GMSE : 0.0038642427129123857, DMSE : 0.006787854005325099\n"
          ]
        },
        {
          "name": "stderr",
          "output_type": "stream",
          "text": [
            "Training.... 1: 100%|██████████| 450/450 [01:48<00:00,  4.14it/s]\n"
          ]
        },
        {
          "name": "stdout",
          "output_type": "stream",
          "text": [
            "Gloss : 9088.985898971558, Dloss : 0.5606753632528125\n",
            "GMSE : 0.0001968603220716089, DMSE : 0.00025036187406398357\n"
          ]
        },
        {
          "name": "stderr",
          "output_type": "stream",
          "text": [
            "Training.... 2: 100%|██████████| 450/450 [01:47<00:00,  4.18it/s]\n"
          ]
        },
        {
          "name": "stdout",
          "output_type": "stream",
          "text": [
            "Gloss : 9041.696514129639, Dloss : 0.283911781723873\n",
            "GMSE : 1.9135048514772958e-05, DMSE : 0.00011372103449985689\n"
          ]
        },
        {
          "name": "stderr",
          "output_type": "stream",
          "text": [
            "Training.... 3: 100%|██████████| 450/450 [01:49<00:00,  4.12it/s]\n"
          ]
        },
        {
          "name": "stdout",
          "output_type": "stream",
          "text": [
            "Gloss : 8640.760388374329, Dloss : 16.765988029310392\n",
            "GMSE : 0.006751926557439006, DMSE : 0.008622114506091972\n"
          ]
        },
        {
          "name": "stderr",
          "output_type": "stream",
          "text": [
            "Training.... 4: 100%|██████████| 450/450 [01:49<00:00,  4.13it/s]\n"
          ]
        },
        {
          "name": "stdout",
          "output_type": "stream",
          "text": [
            "Gloss : 9128.066276550293, Dloss : 0.23970289876524475\n",
            "GMSE : 1.148932882261758e-05, DMSE : 6.207563925861099e-05\n"
          ]
        },
        {
          "name": "stderr",
          "output_type": "stream",
          "text": [
            "Training.... 5: 100%|██████████| 450/450 [01:48<00:00,  4.14it/s]\n"
          ]
        },
        {
          "name": "stdout",
          "output_type": "stream",
          "text": [
            "Gloss : 8569.658635139465, Dloss : 0.5130172977496841\n",
            "GMSE : 0.00021319438800520462, DMSE : 0.0002762080963911572\n"
          ]
        },
        {
          "name": "stderr",
          "output_type": "stream",
          "text": [
            "Training.... 6: 100%|██████████| 450/450 [01:47<00:00,  4.18it/s]\n"
          ]
        },
        {
          "name": "stdout",
          "output_type": "stream",
          "text": [
            "Gloss : 8656.884337425232, Dloss : 0.9323845846902259\n",
            "GMSE : 0.0004026975394647455, DMSE : 0.0005866897768851609\n"
          ]
        },
        {
          "name": "stderr",
          "output_type": "stream",
          "text": [
            "Training.... 7: 100%|██████████| 450/450 [01:49<00:00,  4.13it/s]\n"
          ]
        },
        {
          "name": "stdout",
          "output_type": "stream",
          "text": [
            "Gloss : 8848.782738685608, Dloss : 0.9269020462243134\n",
            "GMSE : 0.0008055466073086124, DMSE : 0.00021524116748464567\n"
          ]
        },
        {
          "name": "stderr",
          "output_type": "stream",
          "text": [
            "Training.... 8: 100%|██████████| 450/450 [01:48<00:00,  4.15it/s]\n"
          ]
        },
        {
          "name": "stdout",
          "output_type": "stream",
          "text": [
            "Gloss : 8362.527577400208, Dloss : 24.815451004513307\n",
            "GMSE : 0.0093375890708874, DMSE : 0.01245493335885182\n"
          ]
        },
        {
          "name": "stderr",
          "output_type": "stream",
          "text": [
            "Training.... 9: 100%|██████████| 450/450 [01:48<00:00,  4.15it/s]\n"
          ]
        },
        {
          "name": "stdout",
          "output_type": "stream",
          "text": [
            "Gloss : 9370.825873374939, Dloss : 3.0164128474079916\n",
            "GMSE : 0.0013729948591115347, DMSE : 0.0017875927684421634\n"
          ]
        },
        {
          "name": "stderr",
          "output_type": "stream",
          "text": [
            "Training.... 10: 100%|██████████| 450/450 [01:48<00:00,  4.16it/s]\n"
          ]
        },
        {
          "name": "stdout",
          "output_type": "stream",
          "text": [
            "Gloss : 8491.033109664917, Dloss : 0.28335017687732034\n",
            "GMSE : 3.81316860603411e-05, DMSE : 7.630186254786554e-05\n"
          ]
        },
        {
          "name": "stderr",
          "output_type": "stream",
          "text": [
            "Training.... 11: 100%|██████████| 450/450 [01:47<00:00,  4.19it/s]\n"
          ]
        },
        {
          "name": "stdout",
          "output_type": "stream",
          "text": [
            "Gloss : 7791.281396865845, Dloss : 0.12831642615674355\n",
            "GMSE : 4.691140416749764e-06, DMSE : 1.2826914598850531e-05\n"
          ]
        },
        {
          "name": "stderr",
          "output_type": "stream",
          "text": [
            "Training.... 12: 100%|██████████| 450/450 [01:48<00:00,  4.16it/s]\n"
          ]
        },
        {
          "name": "stdout",
          "output_type": "stream",
          "text": [
            "Gloss : 8050.651031494141, Dloss : 1.8799019482157746\n",
            "GMSE : 0.0008146443001011103, DMSE : 0.0011681625679387595\n"
          ]
        },
        {
          "name": "stderr",
          "output_type": "stream",
          "text": [
            "Training.... 13: 100%|██████████| 450/450 [01:48<00:00,  4.16it/s]\n"
          ]
        },
        {
          "name": "stdout",
          "output_type": "stream",
          "text": [
            "Gloss : 7999.203253746033, Dloss : 0.3738730758886959\n",
            "GMSE : 9.643626196244833e-05, DMSE : 0.00023556846214743674\n"
          ]
        },
        {
          "name": "stderr",
          "output_type": "stream",
          "text": [
            "Training.... 14: 100%|██████████| 450/450 [01:47<00:00,  4.19it/s]\n"
          ]
        },
        {
          "name": "stdout",
          "output_type": "stream",
          "text": [
            "Gloss : 8110.618251800537, Dloss : 0.20706310433706676\n",
            "GMSE : 1.3756552506998518e-05, DMSE : 0.00010093393112451959\n"
          ]
        },
        {
          "name": "stderr",
          "output_type": "stream",
          "text": [
            "Training.... 15: 100%|██████████| 450/450 [01:47<00:00,  4.17it/s]\n"
          ]
        },
        {
          "name": "stdout",
          "output_type": "stream",
          "text": [
            "Gloss : 7635.835100650787, Dloss : 41.614734138947824\n",
            "GMSE : 0.02037998418712583, DMSE : 0.021271762445273158\n"
          ]
        },
        {
          "name": "stderr",
          "output_type": "stream",
          "text": [
            "Training.... 16: 100%|██████████| 450/450 [01:47<00:00,  4.19it/s]\n"
          ]
        },
        {
          "name": "stdout",
          "output_type": "stream",
          "text": [
            "Gloss : 8012.8453731536865, Dloss : 4.299852981292133\n",
            "GMSE : 0.0004404886690101856, DMSE : 0.0026869608813353692\n"
          ]
        },
        {
          "name": "stderr",
          "output_type": "stream",
          "text": [
            "Training.... 17: 100%|██████████| 450/450 [01:48<00:00,  4.14it/s]\n"
          ]
        },
        {
          "name": "stdout",
          "output_type": "stream",
          "text": [
            "Gloss : 7689.912556648254, Dloss : 1.1481040471189772\n",
            "GMSE : 0.00021448312926858955, DMSE : 0.001016522484619502\n"
          ]
        },
        {
          "name": "stderr",
          "output_type": "stream",
          "text": [
            "Training.... 18: 100%|██████████| 450/450 [01:48<00:00,  4.15it/s]\n"
          ]
        },
        {
          "name": "stdout",
          "output_type": "stream",
          "text": [
            "Gloss : 7525.254465103149, Dloss : 15.247425969286269\n",
            "GMSE : 0.006882208332213082, DMSE : 0.010411978956479476\n"
          ]
        },
        {
          "name": "stderr",
          "output_type": "stream",
          "text": [
            "Training.... 19: 100%|██████████| 450/450 [01:47<00:00,  4.18it/s]\n",
            "\u001b[32m[I 2021-11-14 11:44:05,580]\u001b[0m Trial 6 finished with value: 0.00721777884914903 and parameters: {'lmd': 102.07401254518591}. Best is trial 1 with value: 0.0003330019918401586.\u001b[0m\n"
          ]
        },
        {
          "name": "stdout",
          "output_type": "stream",
          "text": [
            "Gloss : 7670.823613166809, Dloss : 6.963349064883005\n",
            "GMSE : 0.0030514358123342853, DMSE : 0.004166343036814744\n"
          ]
        },
        {
          "name": "stderr",
          "output_type": "stream",
          "text": [
            "Training.... 0: 100%|██████████| 450/450 [01:46<00:00,  4.21it/s]\n"
          ]
        },
        {
          "name": "stdout",
          "output_type": "stream",
          "text": [
            "Gloss : 12668.104654312134, Dloss : 31.971880698709356\n",
            "GMSE : 0.0164246649322908, DMSE : 0.019316815851991125\n"
          ]
        },
        {
          "name": "stderr",
          "output_type": "stream",
          "text": [
            "Training.... 1: 100%|██████████| 450/450 [01:48<00:00,  4.14it/s]\n"
          ]
        },
        {
          "name": "stdout",
          "output_type": "stream",
          "text": [
            "Gloss : 12744.362020492554, Dloss : 10.364517565682036\n",
            "GMSE : 0.005077584235560465, DMSE : 0.007176137637294028\n"
          ]
        },
        {
          "name": "stderr",
          "output_type": "stream",
          "text": [
            "Training.... 2: 100%|██████████| 450/450 [01:47<00:00,  4.18it/s]\n"
          ]
        },
        {
          "name": "stdout",
          "output_type": "stream",
          "text": [
            "Gloss : 12537.069807052612, Dloss : 1.955001962302049\n",
            "GMSE : 0.0006621542494664015, DMSE : 0.001025772096058582\n"
          ]
        },
        {
          "name": "stderr",
          "output_type": "stream",
          "text": [
            "Training.... 3: 100%|██████████| 450/450 [01:48<00:00,  4.14it/s]\n"
          ]
        },
        {
          "name": "stdout",
          "output_type": "stream",
          "text": [
            "Gloss : 11912.776602745056, Dloss : 29.849362269399535\n",
            "GMSE : 0.015783102675643663, DMSE : 0.017194427952546727\n"
          ]
        },
        {
          "name": "stderr",
          "output_type": "stream",
          "text": [
            "Training.... 4: 100%|██████████| 450/450 [01:47<00:00,  4.19it/s]\n"
          ]
        },
        {
          "name": "stdout",
          "output_type": "stream",
          "text": [
            "Gloss : 12332.920248031616, Dloss : 12.409662876860239\n",
            "GMSE : 0.00625490822131695, DMSE : 0.0078115654793441715\n"
          ]
        },
        {
          "name": "stderr",
          "output_type": "stream",
          "text": [
            "Training.... 5: 100%|██████████| 450/450 [01:47<00:00,  4.17it/s]\n"
          ]
        },
        {
          "name": "stdout",
          "output_type": "stream",
          "text": [
            "Gloss : 11593.59013748169, Dloss : 26.912643076026143\n",
            "GMSE : 0.01336739218134396, DMSE : 0.01633240291789377\n"
          ]
        },
        {
          "name": "stderr",
          "output_type": "stream",
          "text": [
            "Training.... 6: 100%|██████████| 450/450 [01:48<00:00,  4.16it/s]\n"
          ]
        },
        {
          "name": "stdout",
          "output_type": "stream",
          "text": [
            "Gloss : 11637.3423538208, Dloss : 12.71554161543827\n",
            "GMSE : 0.006976581474756818, DMSE : 0.008313458754690682\n"
          ]
        },
        {
          "name": "stderr",
          "output_type": "stream",
          "text": [
            "Training.... 7: 100%|██████████| 450/450 [01:48<00:00,  4.13it/s]\n"
          ]
        },
        {
          "name": "stdout",
          "output_type": "stream",
          "text": [
            "Gloss : 11849.077635765076, Dloss : 2.889288275324361\n",
            "GMSE : 0.0010409590262282678, DMSE : 0.0018647706197765872\n"
          ]
        },
        {
          "name": "stderr",
          "output_type": "stream",
          "text": [
            "Training.... 8: 100%|██████████| 450/450 [01:48<00:00,  4.16it/s]\n"
          ]
        },
        {
          "name": "stdout",
          "output_type": "stream",
          "text": [
            "Gloss : 11022.491368293762, Dloss : 4.733637572866428\n",
            "GMSE : 0.0027011854573485996, DMSE : 0.0021513159056974467\n"
          ]
        },
        {
          "name": "stderr",
          "output_type": "stream",
          "text": [
            "Training.... 9: 100%|██████████| 450/450 [01:47<00:00,  4.17it/s]\n"
          ]
        },
        {
          "name": "stdout",
          "output_type": "stream",
          "text": [
            "Gloss : 10837.651823043823, Dloss : 7.787732196302386\n",
            "GMSE : 0.003457839092551037, DMSE : 0.0057737298187839625\n"
          ]
        },
        {
          "name": "stderr",
          "output_type": "stream",
          "text": [
            "Training.... 10: 100%|██████████| 450/450 [01:49<00:00,  4.12it/s]\n"
          ]
        },
        {
          "name": "stdout",
          "output_type": "stream",
          "text": [
            "Gloss : 11079.820516109467, Dloss : 22.66222303237373\n",
            "GMSE : 0.010641847052367544, DMSE : 0.012125417624453709\n"
          ]
        },
        {
          "name": "stderr",
          "output_type": "stream",
          "text": [
            "Training.... 11: 100%|██████████| 450/450 [01:47<00:00,  4.20it/s]\n"
          ]
        },
        {
          "name": "stdout",
          "output_type": "stream",
          "text": [
            "Gloss : 11292.18327999115, Dloss : 20.51903942892386\n",
            "GMSE : 0.00958524972803183, DMSE : 0.010139145486987933\n"
          ]
        },
        {
          "name": "stderr",
          "output_type": "stream",
          "text": [
            "Training.... 12: 100%|██████████| 450/450 [01:46<00:00,  4.21it/s]\n"
          ]
        },
        {
          "name": "stdout",
          "output_type": "stream",
          "text": [
            "Gloss : 11194.617652893066, Dloss : 5.2575750751457235\n",
            "GMSE : 0.002918262925230826, DMSE : 0.00277999854763662\n"
          ]
        },
        {
          "name": "stderr",
          "output_type": "stream",
          "text": [
            "Training.... 13: 100%|██████████| 450/450 [01:48<00:00,  4.16it/s]\n"
          ]
        },
        {
          "name": "stdout",
          "output_type": "stream",
          "text": [
            "Gloss : 10915.538975715637, Dloss : 10.719654140040802\n",
            "GMSE : 0.005609128799836586, DMSE : 0.007406764315416135\n"
          ]
        },
        {
          "name": "stderr",
          "output_type": "stream",
          "text": [
            "Training.... 14: 100%|██████████| 450/450 [01:46<00:00,  4.21it/s]\n"
          ]
        },
        {
          "name": "stdout",
          "output_type": "stream",
          "text": [
            "Gloss : 10966.805530548096, Dloss : 8.926751402137597\n",
            "GMSE : 0.00590750701884888, DMSE : 0.005367096574213455\n"
          ]
        },
        {
          "name": "stderr",
          "output_type": "stream",
          "text": [
            "Training.... 15: 100%|██████████| 450/450 [01:46<00:00,  4.21it/s]\n"
          ]
        },
        {
          "name": "stdout",
          "output_type": "stream",
          "text": [
            "Gloss : 10831.152283668518, Dloss : 5.488503864262384\n",
            "GMSE : 0.0032509256886958113, DMSE : 0.0034206306332072592\n"
          ]
        },
        {
          "name": "stderr",
          "output_type": "stream",
          "text": [
            "Training.... 16: 100%|██████████| 450/450 [01:47<00:00,  4.18it/s]\n"
          ]
        },
        {
          "name": "stdout",
          "output_type": "stream",
          "text": [
            "Gloss : 11003.603837013245, Dloss : 12.459322347469424\n",
            "GMSE : 0.0054700884114728884, DMSE : 0.008249225424007986\n"
          ]
        },
        {
          "name": "stderr",
          "output_type": "stream",
          "text": [
            "Training.... 17: 100%|██████████| 450/450 [01:47<00:00,  4.20it/s]\n"
          ]
        },
        {
          "name": "stdout",
          "output_type": "stream",
          "text": [
            "Gloss : 10225.962907791138, Dloss : 6.947570437609102\n",
            "GMSE : 0.002822425069517829, DMSE : 0.005191687408262471\n"
          ]
        },
        {
          "name": "stderr",
          "output_type": "stream",
          "text": [
            "Training.... 18: 100%|██████████| 450/450 [01:47<00:00,  4.18it/s]\n"
          ]
        },
        {
          "name": "stdout",
          "output_type": "stream",
          "text": [
            "Gloss : 10944.63066291809, Dloss : 5.976376757806065\n",
            "GMSE : 0.002111026939663585, DMSE : 0.004206465654957173\n"
          ]
        },
        {
          "name": "stderr",
          "output_type": "stream",
          "text": [
            "Training.... 19: 100%|██████████| 450/450 [01:48<00:00,  4.16it/s]\n",
            "\u001b[32m[I 2021-11-14 12:26:09,467]\u001b[0m Trial 7 finished with value: 0.01974894843870655 and parameters: {'lmd': 270.4253782690004}. Best is trial 1 with value: 0.0003330019918401586.\u001b[0m\n"
          ]
        },
        {
          "name": "stdout",
          "output_type": "stream",
          "text": [
            "Gloss : 10880.596201896667, Dloss : 15.990008091208438\n",
            "GMSE : 0.008823868973014196, DMSE : 0.010925079465692353\n"
          ]
        },
        {
          "name": "stderr",
          "output_type": "stream",
          "text": [
            "Training.... 0: 100%|██████████| 450/450 [01:46<00:00,  4.21it/s]\n"
          ]
        },
        {
          "name": "stdout",
          "output_type": "stream",
          "text": [
            "Gloss : 14800.46647644043, Dloss : 26.223102151721832\n",
            "GMSE : 0.01516047147343331, DMSE : 0.01804441377014527\n"
          ]
        },
        {
          "name": "stderr",
          "output_type": "stream",
          "text": [
            "Training.... 1: 100%|██████████| 450/450 [01:47<00:00,  4.19it/s]\n"
          ]
        },
        {
          "name": "stdout",
          "output_type": "stream",
          "text": [
            "Gloss : 14213.43561077118, Dloss : 24.065717224972104\n",
            "GMSE : 0.0109798184894201, DMSE : 0.014176038712373279\n"
          ]
        },
        {
          "name": "stderr",
          "output_type": "stream",
          "text": [
            "Training.... 2: 100%|██████████| 450/450 [01:47<00:00,  4.20it/s]\n"
          ]
        },
        {
          "name": "stdout",
          "output_type": "stream",
          "text": [
            "Gloss : 13913.999404907227, Dloss : 22.613877918924118\n",
            "GMSE : 0.013510323843812054, DMSE : 0.015513466811898979\n"
          ]
        },
        {
          "name": "stderr",
          "output_type": "stream",
          "text": [
            "Training.... 3: 100%|██████████| 450/450 [01:47<00:00,  4.17it/s]\n"
          ]
        },
        {
          "name": "stdout",
          "output_type": "stream",
          "text": [
            "Gloss : 14266.685626029968, Dloss : 8.789184650837342\n",
            "GMSE : 0.004390385726975215, DMSE : 0.004716007231106514\n"
          ]
        },
        {
          "name": "stderr",
          "output_type": "stream",
          "text": [
            "Training.... 4: 100%|██████████| 450/450 [01:47<00:00,  4.19it/s]\n"
          ]
        },
        {
          "name": "stdout",
          "output_type": "stream",
          "text": [
            "Gloss : 13733.916602134705, Dloss : 29.057399749461183\n",
            "GMSE : 0.012498503864490963, DMSE : 0.019204037383636928\n"
          ]
        },
        {
          "name": "stderr",
          "output_type": "stream",
          "text": [
            "Training.... 5: 100%|██████████| 450/450 [01:46<00:00,  4.23it/s]\n"
          ]
        },
        {
          "name": "stdout",
          "output_type": "stream",
          "text": [
            "Gloss : 13139.235134124756, Dloss : 20.865508292357845\n",
            "GMSE : 0.011633645244439248, DMSE : 0.013932524070095651\n"
          ]
        },
        {
          "name": "stderr",
          "output_type": "stream",
          "text": [
            "Training.... 6: 100%|██████████| 450/450 [01:47<00:00,  4.17it/s]\n"
          ]
        },
        {
          "name": "stdout",
          "output_type": "stream",
          "text": [
            "Gloss : 13237.572164535522, Dloss : 17.430532204089104\n",
            "GMSE : 0.008533913692164857, DMSE : 0.012246644969588358\n"
          ]
        },
        {
          "name": "stderr",
          "output_type": "stream",
          "text": [
            "Training.... 7: 100%|██████████| 450/450 [01:47<00:00,  4.18it/s]\n"
          ]
        },
        {
          "name": "stdout",
          "output_type": "stream",
          "text": [
            "Gloss : 12830.513469696045, Dloss : 25.492033333292056\n",
            "GMSE : 0.013446259532312632, DMSE : 0.01674657198839654\n"
          ]
        },
        {
          "name": "stderr",
          "output_type": "stream",
          "text": [
            "Training.... 8: 100%|██████████| 450/450 [01:46<00:00,  4.21it/s]\n"
          ]
        },
        {
          "name": "stdout",
          "output_type": "stream",
          "text": [
            "Gloss : 13201.719309806824, Dloss : 14.61494900220714\n",
            "GMSE : 0.008702808756933543, DMSE : 0.008512536971180752\n"
          ]
        },
        {
          "name": "stderr",
          "output_type": "stream",
          "text": [
            "Training.... 9:  95%|█████████▍| 427/450 [01:42<00:05,  3.89it/s]"
          ]
        }
      ]
    },
    {
      "cell_type": "code",
      "metadata": {
        "id": "J8YXcnNsEHbO"
      },
      "source": [
        "_x = [i+1 for i in range(num_epochs)]\n",
        "plt.figure(figsize=(12,4))\n",
        "\n",
        "plt.subplot(1,2,1)\n",
        "plt.title('Losses Of Generator Model')\n",
        "plt.plot(_x,G_errors,label='G Loss')\n",
        "\n",
        "plt.subplot(1,2,2)\n",
        "plt.title('Losses Of Discriminator Model')\n",
        "plt.plot(_x,D_errors,label='D Loss')\n",
        "plt.legend()\n",
        "\n",
        "plt.show()"
      ],
      "execution_count": null,
      "outputs": []
    },
    {
      "cell_type": "code",
      "metadata": {
        "id": "HsS29SVy2tGD"
      },
      "source": [
        "def amply(img):\n",
        "  return (1+abs(img))*(255/2)\n",
        "\n",
        "def mod_amply(img):\n",
        "  for i in range(len(img)):\n",
        "    for j in range(len(img[0])):\n",
        "      if img[i][j]>=0:\n",
        "        img[i][j] = img[i][j]*(255)\n",
        "  return img\n",
        "\n",
        "def getMinMax(img):\n",
        "  mini,maxi = 1000000,-1000000\n",
        "  for i in range(len(img)):\n",
        "    for j in range(len(img[0])):\n",
        "      mini = min(mini,img[i][j])\n",
        "      maxi = max(maxi,img[i][j])\n",
        "  return mini,maxi\n",
        "\n",
        "def remap(img):\n",
        "  input_start,input_end = getMinMax(img)\n",
        "  output_start,output_end = 0,255\n",
        "  slope = (output_end - output_start) / (input_end - input_start)\n",
        "  output = output_start + (slope * (img - input_start))\n",
        "  return output"
      ],
      "execution_count": null,
      "outputs": []
    },
    {
      "cell_type": "code",
      "metadata": {
        "id": "GUqMUqWjtzLk"
      },
      "source": [
        "# apple jpg\n",
        "img = cv2.imread('/content/drive/MyDrive/HSFMRGB/Imgs/apple.png')\n",
        "img = cv2.resize(img,(256,256))\n",
        "img = tr.reshape(tr.from_numpy(img),(1,3,256,256))"
      ],
      "execution_count": null,
      "outputs": []
    },
    {
      "cell_type": "code",
      "metadata": {
        "id": "tQqNMCF_EJ2C"
      },
      "source": [
        "jpgs,specs = getImage([450])\n",
        "\n",
        "specs = tr.reshape(specs,(256,256,3))\n",
        "pred_specs = netG(jpgs.to(device).float())\n",
        "pred_specs = tr.reshape(pred_specs,(256,256,3))\n",
        "# jpg = tr.reshape(jpgs,(256,256,3)).to('cpu').detach().numpy()\n",
        "\n",
        "plt.figure(figsize=(8,8))\n",
        "\n",
        "plt.subplot(3,3,1)\n",
        "plt.title('Groung Truth')\n",
        "plt.axis('off')\n",
        "img = np.resize(specs[:,:,:1],(256,256))\n",
        "plt.imshow(img)\n",
        "\n",
        "plt.subplot(3,3,2)\n",
        "plt.title('Predicted Truth')\n",
        "plt.axis('off')\n",
        "img = tr.reshape(pred_specs[:,:,:1],(256,256))\n",
        "img = img.to('cpu').detach().numpy()\n",
        "plt.imshow(img)\n",
        "\n",
        "plt.subplot(3,3,3)\n",
        "plt.title('After Amplification')\n",
        "plt.axis('off')\n",
        "img = amply(img)\n",
        "plt.imshow(img)\n",
        "\n",
        "\n",
        "plt.subplot(3,3,4)\n",
        "plt.axis('off')\n",
        "img = np.resize(specs[:,:,1:2],(256,256))\n",
        "plt.imshow(img)\n",
        "\n",
        "plt.subplot(3,3,5)\n",
        "plt.axis('off')\n",
        "img = tr.reshape(pred_specs[:,:,1:2],(256,256))\n",
        "img = img.to('cpu').detach().numpy()\n",
        "plt.imshow(img)\n",
        "\n",
        "plt.subplot(3,3,6)\n",
        "plt.axis('off')\n",
        "img = amply(img)\n",
        "plt.imshow(img)\n",
        "\n",
        "plt.subplot(3,3,7)\n",
        "plt.axis('off')\n",
        "img = np.resize(specs[:,:,2:],(256,256))\n",
        "plt.imshow(img)\n",
        "\n",
        "plt.subplot(3,3,8)\n",
        "plt.axis('off')\n",
        "img = tr.reshape(pred_specs[:,:,2:],(256,256))\n",
        "img = img.to('cpu').detach().numpy()\n",
        "plt.imshow(img)\n",
        "\n",
        "plt.subplot(3,3,9)\n",
        "plt.axis('off')\n",
        "img = amply(img)\n",
        "plt.imshow(img)\n",
        "\n",
        "plt.show()"
      ],
      "execution_count": null,
      "outputs": []
    },
    {
      "cell_type": "code",
      "metadata": {
        "id": "XojGovZFV78T"
      },
      "source": [
        "img = tr.reshape(pred_specs[:,:,:1],(256,256))\n",
        "img = img.to('cpu').detach().numpy()\n",
        "\n",
        "\n",
        "plt.figure(figsize=(14,14))\n",
        "plt.subplot(1,4,1)\n",
        "plt.title(f'Predicted {getMinMax(img[:,:])}')\n",
        "plt.axis('off')\n",
        "plt.imshow(img)\n",
        "\n",
        "\n",
        "\n",
        "remap_img = remap(img[:,:])\n",
        "plt.subplot(1,4,2)\n",
        "plt.title(f'Remap {getMinMax(remap_img)}')\n",
        "plt.axis('off')\n",
        "plt.imshow(remap_img)\n",
        "\n",
        "\n",
        "\n",
        "mod_amply_img = mod_amply(img[:,:])\n",
        "plt.subplot(1,4,3)\n",
        "plt.title(f'Mod Amply {getMinMax(mod_amply_img)}')\n",
        "plt.axis('off')\n",
        "plt.imshow(mod_amply_img)\n",
        "\n",
        "\n",
        "\n",
        "amp_img = amply(img[:,:])\n",
        "plt.subplot(1,4,4)\n",
        "plt.title(f'Amply {getMinMax(amp_img)}')\n",
        "plt.axis('off')\n",
        "plt.imshow(amp_img)\n",
        "\n",
        "plt.show()"
      ],
      "execution_count": null,
      "outputs": []
    },
    {
      "cell_type": "code",
      "metadata": {
        "id": "bqwVTTiEMcuN"
      },
      "source": [
        "tr.save(netG.state_dict(),'netG-520-540.pth')"
      ],
      "execution_count": null,
      "outputs": []
    },
    {
      "cell_type": "code",
      "metadata": {
        "id": "ZEJ6wZxiM2kL"
      },
      "source": [
        "tr.save(netD.state_dict(),'netD-520-540.pth')"
      ],
      "execution_count": null,
      "outputs": []
    },
    {
      "cell_type": "code",
      "metadata": {
        "id": "UVQotywFMsGo"
      },
      "source": [
        "# load the models\n",
        "# state_dict = tr.load('/content/drive/MyDrive/netG.pth')\n",
        "# state_dict = tr.load('/content/drive/MyDrive/HSFMRGB/Colab Notebooks old/netG.pth')\n",
        "# print(state_dict.keys())\n",
        "# netG.load_state_dict(state_dict)\n",
        "\n",
        "# state_dict = tr.load('/content/drive/MyDrive/netD.pth')\n",
        "# state_dict = tr.load('/content/drive/MyDrive/HSFMRGB/Colab Notebooks old/netD.pth')\n",
        "# print(state_dict.keys())\n",
        "# netD.load_state_dict(state_dict)"
      ],
      "execution_count": null,
      "outputs": []
    },
    {
      "cell_type": "markdown",
      "metadata": {
        "id": "Opwbh5GUmC2v"
      },
      "source": [
        "400-420 : 0-3\n",
        "430-450 : 3-6\n",
        "460-480 : 6-9\n",
        "490-510 : 9-12\n",
        "520-540 : 12-15"
      ]
    }
  ]
}